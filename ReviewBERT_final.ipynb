{
  "nbformat": 4,
  "nbformat_minor": 0,
  "metadata": {
    "colab": {
      "provenance": [],
      "gpuType": "A100",
      "authorship_tag": "ABX9TyME5pWtWByUx4sFC9mBnVkf",
      "include_colab_link": true
    },
    "kernelspec": {
      "name": "python3",
      "display_name": "Python 3"
    },
    "language_info": {
      "name": "python"
    },
    "accelerator": "GPU",
    "widgets": {
      "application/vnd.jupyter.widget-state+json": {
        "6bf930602476426ba43bf41b663f3ecc": {
          "model_module": "@jupyter-widgets/controls",
          "model_name": "HBoxModel",
          "model_module_version": "1.5.0",
          "state": {
            "_dom_classes": [],
            "_model_module": "@jupyter-widgets/controls",
            "_model_module_version": "1.5.0",
            "_model_name": "HBoxModel",
            "_view_count": null,
            "_view_module": "@jupyter-widgets/controls",
            "_view_module_version": "1.5.0",
            "_view_name": "HBoxView",
            "box_style": "",
            "children": [
              "IPY_MODEL_03efbe73f45746d8b2e171feded4fe3f",
              "IPY_MODEL_424e18cb3bd34d399edbc83756ed53fc",
              "IPY_MODEL_3c02e8798a6946c6afdc9e3f27afb7cf"
            ],
            "layout": "IPY_MODEL_bf24323bd7f741fc9c8466c7c96d0264"
          }
        },
        "03efbe73f45746d8b2e171feded4fe3f": {
          "model_module": "@jupyter-widgets/controls",
          "model_name": "HTMLModel",
          "model_module_version": "1.5.0",
          "state": {
            "_dom_classes": [],
            "_model_module": "@jupyter-widgets/controls",
            "_model_module_version": "1.5.0",
            "_model_name": "HTMLModel",
            "_view_count": null,
            "_view_module": "@jupyter-widgets/controls",
            "_view_module_version": "1.5.0",
            "_view_name": "HTMLView",
            "description": "",
            "description_tooltip": null,
            "layout": "IPY_MODEL_9b6cb33ce63649c3bafe45b98de38f9a",
            "placeholder": "​",
            "style": "IPY_MODEL_9224591195a642df805598ce3840da03",
            "value": "tokenizer_config.json: 100%"
          }
        },
        "424e18cb3bd34d399edbc83756ed53fc": {
          "model_module": "@jupyter-widgets/controls",
          "model_name": "FloatProgressModel",
          "model_module_version": "1.5.0",
          "state": {
            "_dom_classes": [],
            "_model_module": "@jupyter-widgets/controls",
            "_model_module_version": "1.5.0",
            "_model_name": "FloatProgressModel",
            "_view_count": null,
            "_view_module": "@jupyter-widgets/controls",
            "_view_module_version": "1.5.0",
            "_view_name": "ProgressView",
            "bar_style": "success",
            "description": "",
            "description_tooltip": null,
            "layout": "IPY_MODEL_fe2b21d9aeda4972bf2b0e9345e91221",
            "max": 366,
            "min": 0,
            "orientation": "horizontal",
            "style": "IPY_MODEL_b2cf6a08620149d19758e95ad1657634",
            "value": 366
          }
        },
        "3c02e8798a6946c6afdc9e3f27afb7cf": {
          "model_module": "@jupyter-widgets/controls",
          "model_name": "HTMLModel",
          "model_module_version": "1.5.0",
          "state": {
            "_dom_classes": [],
            "_model_module": "@jupyter-widgets/controls",
            "_model_module_version": "1.5.0",
            "_model_name": "HTMLModel",
            "_view_count": null,
            "_view_module": "@jupyter-widgets/controls",
            "_view_module_version": "1.5.0",
            "_view_name": "HTMLView",
            "description": "",
            "description_tooltip": null,
            "layout": "IPY_MODEL_f7ccd0c7dbf04c778f6c80427e79258f",
            "placeholder": "​",
            "style": "IPY_MODEL_cfd5f35a1cc746eb8b2f9603df6452dc",
            "value": " 366/366 [00:00&lt;00:00, 32.6kB/s]"
          }
        },
        "bf24323bd7f741fc9c8466c7c96d0264": {
          "model_module": "@jupyter-widgets/base",
          "model_name": "LayoutModel",
          "model_module_version": "1.2.0",
          "state": {
            "_model_module": "@jupyter-widgets/base",
            "_model_module_version": "1.2.0",
            "_model_name": "LayoutModel",
            "_view_count": null,
            "_view_module": "@jupyter-widgets/base",
            "_view_module_version": "1.2.0",
            "_view_name": "LayoutView",
            "align_content": null,
            "align_items": null,
            "align_self": null,
            "border": null,
            "bottom": null,
            "display": null,
            "flex": null,
            "flex_flow": null,
            "grid_area": null,
            "grid_auto_columns": null,
            "grid_auto_flow": null,
            "grid_auto_rows": null,
            "grid_column": null,
            "grid_gap": null,
            "grid_row": null,
            "grid_template_areas": null,
            "grid_template_columns": null,
            "grid_template_rows": null,
            "height": null,
            "justify_content": null,
            "justify_items": null,
            "left": null,
            "margin": null,
            "max_height": null,
            "max_width": null,
            "min_height": null,
            "min_width": null,
            "object_fit": null,
            "object_position": null,
            "order": null,
            "overflow": null,
            "overflow_x": null,
            "overflow_y": null,
            "padding": null,
            "right": null,
            "top": null,
            "visibility": null,
            "width": null
          }
        },
        "9b6cb33ce63649c3bafe45b98de38f9a": {
          "model_module": "@jupyter-widgets/base",
          "model_name": "LayoutModel",
          "model_module_version": "1.2.0",
          "state": {
            "_model_module": "@jupyter-widgets/base",
            "_model_module_version": "1.2.0",
            "_model_name": "LayoutModel",
            "_view_count": null,
            "_view_module": "@jupyter-widgets/base",
            "_view_module_version": "1.2.0",
            "_view_name": "LayoutView",
            "align_content": null,
            "align_items": null,
            "align_self": null,
            "border": null,
            "bottom": null,
            "display": null,
            "flex": null,
            "flex_flow": null,
            "grid_area": null,
            "grid_auto_columns": null,
            "grid_auto_flow": null,
            "grid_auto_rows": null,
            "grid_column": null,
            "grid_gap": null,
            "grid_row": null,
            "grid_template_areas": null,
            "grid_template_columns": null,
            "grid_template_rows": null,
            "height": null,
            "justify_content": null,
            "justify_items": null,
            "left": null,
            "margin": null,
            "max_height": null,
            "max_width": null,
            "min_height": null,
            "min_width": null,
            "object_fit": null,
            "object_position": null,
            "order": null,
            "overflow": null,
            "overflow_x": null,
            "overflow_y": null,
            "padding": null,
            "right": null,
            "top": null,
            "visibility": null,
            "width": null
          }
        },
        "9224591195a642df805598ce3840da03": {
          "model_module": "@jupyter-widgets/controls",
          "model_name": "DescriptionStyleModel",
          "model_module_version": "1.5.0",
          "state": {
            "_model_module": "@jupyter-widgets/controls",
            "_model_module_version": "1.5.0",
            "_model_name": "DescriptionStyleModel",
            "_view_count": null,
            "_view_module": "@jupyter-widgets/base",
            "_view_module_version": "1.2.0",
            "_view_name": "StyleView",
            "description_width": ""
          }
        },
        "fe2b21d9aeda4972bf2b0e9345e91221": {
          "model_module": "@jupyter-widgets/base",
          "model_name": "LayoutModel",
          "model_module_version": "1.2.0",
          "state": {
            "_model_module": "@jupyter-widgets/base",
            "_model_module_version": "1.2.0",
            "_model_name": "LayoutModel",
            "_view_count": null,
            "_view_module": "@jupyter-widgets/base",
            "_view_module_version": "1.2.0",
            "_view_name": "LayoutView",
            "align_content": null,
            "align_items": null,
            "align_self": null,
            "border": null,
            "bottom": null,
            "display": null,
            "flex": null,
            "flex_flow": null,
            "grid_area": null,
            "grid_auto_columns": null,
            "grid_auto_flow": null,
            "grid_auto_rows": null,
            "grid_column": null,
            "grid_gap": null,
            "grid_row": null,
            "grid_template_areas": null,
            "grid_template_columns": null,
            "grid_template_rows": null,
            "height": null,
            "justify_content": null,
            "justify_items": null,
            "left": null,
            "margin": null,
            "max_height": null,
            "max_width": null,
            "min_height": null,
            "min_width": null,
            "object_fit": null,
            "object_position": null,
            "order": null,
            "overflow": null,
            "overflow_x": null,
            "overflow_y": null,
            "padding": null,
            "right": null,
            "top": null,
            "visibility": null,
            "width": null
          }
        },
        "b2cf6a08620149d19758e95ad1657634": {
          "model_module": "@jupyter-widgets/controls",
          "model_name": "ProgressStyleModel",
          "model_module_version": "1.5.0",
          "state": {
            "_model_module": "@jupyter-widgets/controls",
            "_model_module_version": "1.5.0",
            "_model_name": "ProgressStyleModel",
            "_view_count": null,
            "_view_module": "@jupyter-widgets/base",
            "_view_module_version": "1.2.0",
            "_view_name": "StyleView",
            "bar_color": null,
            "description_width": ""
          }
        },
        "f7ccd0c7dbf04c778f6c80427e79258f": {
          "model_module": "@jupyter-widgets/base",
          "model_name": "LayoutModel",
          "model_module_version": "1.2.0",
          "state": {
            "_model_module": "@jupyter-widgets/base",
            "_model_module_version": "1.2.0",
            "_model_name": "LayoutModel",
            "_view_count": null,
            "_view_module": "@jupyter-widgets/base",
            "_view_module_version": "1.2.0",
            "_view_name": "LayoutView",
            "align_content": null,
            "align_items": null,
            "align_self": null,
            "border": null,
            "bottom": null,
            "display": null,
            "flex": null,
            "flex_flow": null,
            "grid_area": null,
            "grid_auto_columns": null,
            "grid_auto_flow": null,
            "grid_auto_rows": null,
            "grid_column": null,
            "grid_gap": null,
            "grid_row": null,
            "grid_template_areas": null,
            "grid_template_columns": null,
            "grid_template_rows": null,
            "height": null,
            "justify_content": null,
            "justify_items": null,
            "left": null,
            "margin": null,
            "max_height": null,
            "max_width": null,
            "min_height": null,
            "min_width": null,
            "object_fit": null,
            "object_position": null,
            "order": null,
            "overflow": null,
            "overflow_x": null,
            "overflow_y": null,
            "padding": null,
            "right": null,
            "top": null,
            "visibility": null,
            "width": null
          }
        },
        "cfd5f35a1cc746eb8b2f9603df6452dc": {
          "model_module": "@jupyter-widgets/controls",
          "model_name": "DescriptionStyleModel",
          "model_module_version": "1.5.0",
          "state": {
            "_model_module": "@jupyter-widgets/controls",
            "_model_module_version": "1.5.0",
            "_model_name": "DescriptionStyleModel",
            "_view_count": null,
            "_view_module": "@jupyter-widgets/base",
            "_view_module_version": "1.2.0",
            "_view_name": "StyleView",
            "description_width": ""
          }
        },
        "99272de33ffa44e1b70213ef1c105493": {
          "model_module": "@jupyter-widgets/controls",
          "model_name": "HBoxModel",
          "model_module_version": "1.5.0",
          "state": {
            "_dom_classes": [],
            "_model_module": "@jupyter-widgets/controls",
            "_model_module_version": "1.5.0",
            "_model_name": "HBoxModel",
            "_view_count": null,
            "_view_module": "@jupyter-widgets/controls",
            "_view_module_version": "1.5.0",
            "_view_name": "HBoxView",
            "box_style": "",
            "children": [
              "IPY_MODEL_c53325a5b7154ff7925a74ba04fe4aa5",
              "IPY_MODEL_0483fd4523b54764abf61f91b8321a5b",
              "IPY_MODEL_5aa65d5a8b0542bd9b6e74f69d59fdab"
            ],
            "layout": "IPY_MODEL_5a53242605ee4df18372d07ea7edf0d3"
          }
        },
        "c53325a5b7154ff7925a74ba04fe4aa5": {
          "model_module": "@jupyter-widgets/controls",
          "model_name": "HTMLModel",
          "model_module_version": "1.5.0",
          "state": {
            "_dom_classes": [],
            "_model_module": "@jupyter-widgets/controls",
            "_model_module_version": "1.5.0",
            "_model_name": "HTMLModel",
            "_view_count": null,
            "_view_module": "@jupyter-widgets/controls",
            "_view_module_version": "1.5.0",
            "_view_name": "HTMLView",
            "description": "",
            "description_tooltip": null,
            "layout": "IPY_MODEL_e57d9cfec92040cc96a15104063f5e36",
            "placeholder": "​",
            "style": "IPY_MODEL_c843537617ae4dacb02dc9cf83a55d46",
            "value": "vocab.txt: 100%"
          }
        },
        "0483fd4523b54764abf61f91b8321a5b": {
          "model_module": "@jupyter-widgets/controls",
          "model_name": "FloatProgressModel",
          "model_module_version": "1.5.0",
          "state": {
            "_dom_classes": [],
            "_model_module": "@jupyter-widgets/controls",
            "_model_module_version": "1.5.0",
            "_model_name": "FloatProgressModel",
            "_view_count": null,
            "_view_module": "@jupyter-widgets/controls",
            "_view_module_version": "1.5.0",
            "_view_name": "ProgressView",
            "bar_style": "success",
            "description": "",
            "description_tooltip": null,
            "layout": "IPY_MODEL_723498e4bb114103846a2c062c29edfe",
            "max": 244937,
            "min": 0,
            "orientation": "horizontal",
            "style": "IPY_MODEL_5136209ef419431e86fbf05f4b50e789",
            "value": 244937
          }
        },
        "5aa65d5a8b0542bd9b6e74f69d59fdab": {
          "model_module": "@jupyter-widgets/controls",
          "model_name": "HTMLModel",
          "model_module_version": "1.5.0",
          "state": {
            "_dom_classes": [],
            "_model_module": "@jupyter-widgets/controls",
            "_model_module_version": "1.5.0",
            "_model_name": "HTMLModel",
            "_view_count": null,
            "_view_module": "@jupyter-widgets/controls",
            "_view_module_version": "1.5.0",
            "_view_name": "HTMLView",
            "description": "",
            "description_tooltip": null,
            "layout": "IPY_MODEL_2c6effafecea4911928d6f39bf86899b",
            "placeholder": "​",
            "style": "IPY_MODEL_326dde958abf4f4c8d6aafa4f598d16f",
            "value": " 245k/245k [00:00&lt;00:00, 2.91MB/s]"
          }
        },
        "5a53242605ee4df18372d07ea7edf0d3": {
          "model_module": "@jupyter-widgets/base",
          "model_name": "LayoutModel",
          "model_module_version": "1.2.0",
          "state": {
            "_model_module": "@jupyter-widgets/base",
            "_model_module_version": "1.2.0",
            "_model_name": "LayoutModel",
            "_view_count": null,
            "_view_module": "@jupyter-widgets/base",
            "_view_module_version": "1.2.0",
            "_view_name": "LayoutView",
            "align_content": null,
            "align_items": null,
            "align_self": null,
            "border": null,
            "bottom": null,
            "display": null,
            "flex": null,
            "flex_flow": null,
            "grid_area": null,
            "grid_auto_columns": null,
            "grid_auto_flow": null,
            "grid_auto_rows": null,
            "grid_column": null,
            "grid_gap": null,
            "grid_row": null,
            "grid_template_areas": null,
            "grid_template_columns": null,
            "grid_template_rows": null,
            "height": null,
            "justify_content": null,
            "justify_items": null,
            "left": null,
            "margin": null,
            "max_height": null,
            "max_width": null,
            "min_height": null,
            "min_width": null,
            "object_fit": null,
            "object_position": null,
            "order": null,
            "overflow": null,
            "overflow_x": null,
            "overflow_y": null,
            "padding": null,
            "right": null,
            "top": null,
            "visibility": null,
            "width": null
          }
        },
        "e57d9cfec92040cc96a15104063f5e36": {
          "model_module": "@jupyter-widgets/base",
          "model_name": "LayoutModel",
          "model_module_version": "1.2.0",
          "state": {
            "_model_module": "@jupyter-widgets/base",
            "_model_module_version": "1.2.0",
            "_model_name": "LayoutModel",
            "_view_count": null,
            "_view_module": "@jupyter-widgets/base",
            "_view_module_version": "1.2.0",
            "_view_name": "LayoutView",
            "align_content": null,
            "align_items": null,
            "align_self": null,
            "border": null,
            "bottom": null,
            "display": null,
            "flex": null,
            "flex_flow": null,
            "grid_area": null,
            "grid_auto_columns": null,
            "grid_auto_flow": null,
            "grid_auto_rows": null,
            "grid_column": null,
            "grid_gap": null,
            "grid_row": null,
            "grid_template_areas": null,
            "grid_template_columns": null,
            "grid_template_rows": null,
            "height": null,
            "justify_content": null,
            "justify_items": null,
            "left": null,
            "margin": null,
            "max_height": null,
            "max_width": null,
            "min_height": null,
            "min_width": null,
            "object_fit": null,
            "object_position": null,
            "order": null,
            "overflow": null,
            "overflow_x": null,
            "overflow_y": null,
            "padding": null,
            "right": null,
            "top": null,
            "visibility": null,
            "width": null
          }
        },
        "c843537617ae4dacb02dc9cf83a55d46": {
          "model_module": "@jupyter-widgets/controls",
          "model_name": "DescriptionStyleModel",
          "model_module_version": "1.5.0",
          "state": {
            "_model_module": "@jupyter-widgets/controls",
            "_model_module_version": "1.5.0",
            "_model_name": "DescriptionStyleModel",
            "_view_count": null,
            "_view_module": "@jupyter-widgets/base",
            "_view_module_version": "1.2.0",
            "_view_name": "StyleView",
            "description_width": ""
          }
        },
        "723498e4bb114103846a2c062c29edfe": {
          "model_module": "@jupyter-widgets/base",
          "model_name": "LayoutModel",
          "model_module_version": "1.2.0",
          "state": {
            "_model_module": "@jupyter-widgets/base",
            "_model_module_version": "1.2.0",
            "_model_name": "LayoutModel",
            "_view_count": null,
            "_view_module": "@jupyter-widgets/base",
            "_view_module_version": "1.2.0",
            "_view_name": "LayoutView",
            "align_content": null,
            "align_items": null,
            "align_self": null,
            "border": null,
            "bottom": null,
            "display": null,
            "flex": null,
            "flex_flow": null,
            "grid_area": null,
            "grid_auto_columns": null,
            "grid_auto_flow": null,
            "grid_auto_rows": null,
            "grid_column": null,
            "grid_gap": null,
            "grid_row": null,
            "grid_template_areas": null,
            "grid_template_columns": null,
            "grid_template_rows": null,
            "height": null,
            "justify_content": null,
            "justify_items": null,
            "left": null,
            "margin": null,
            "max_height": null,
            "max_width": null,
            "min_height": null,
            "min_width": null,
            "object_fit": null,
            "object_position": null,
            "order": null,
            "overflow": null,
            "overflow_x": null,
            "overflow_y": null,
            "padding": null,
            "right": null,
            "top": null,
            "visibility": null,
            "width": null
          }
        },
        "5136209ef419431e86fbf05f4b50e789": {
          "model_module": "@jupyter-widgets/controls",
          "model_name": "ProgressStyleModel",
          "model_module_version": "1.5.0",
          "state": {
            "_model_module": "@jupyter-widgets/controls",
            "_model_module_version": "1.5.0",
            "_model_name": "ProgressStyleModel",
            "_view_count": null,
            "_view_module": "@jupyter-widgets/base",
            "_view_module_version": "1.2.0",
            "_view_name": "StyleView",
            "bar_color": null,
            "description_width": ""
          }
        },
        "2c6effafecea4911928d6f39bf86899b": {
          "model_module": "@jupyter-widgets/base",
          "model_name": "LayoutModel",
          "model_module_version": "1.2.0",
          "state": {
            "_model_module": "@jupyter-widgets/base",
            "_model_module_version": "1.2.0",
            "_model_name": "LayoutModel",
            "_view_count": null,
            "_view_module": "@jupyter-widgets/base",
            "_view_module_version": "1.2.0",
            "_view_name": "LayoutView",
            "align_content": null,
            "align_items": null,
            "align_self": null,
            "border": null,
            "bottom": null,
            "display": null,
            "flex": null,
            "flex_flow": null,
            "grid_area": null,
            "grid_auto_columns": null,
            "grid_auto_flow": null,
            "grid_auto_rows": null,
            "grid_column": null,
            "grid_gap": null,
            "grid_row": null,
            "grid_template_areas": null,
            "grid_template_columns": null,
            "grid_template_rows": null,
            "height": null,
            "justify_content": null,
            "justify_items": null,
            "left": null,
            "margin": null,
            "max_height": null,
            "max_width": null,
            "min_height": null,
            "min_width": null,
            "object_fit": null,
            "object_position": null,
            "order": null,
            "overflow": null,
            "overflow_x": null,
            "overflow_y": null,
            "padding": null,
            "right": null,
            "top": null,
            "visibility": null,
            "width": null
          }
        },
        "326dde958abf4f4c8d6aafa4f598d16f": {
          "model_module": "@jupyter-widgets/controls",
          "model_name": "DescriptionStyleModel",
          "model_module_version": "1.5.0",
          "state": {
            "_model_module": "@jupyter-widgets/controls",
            "_model_module_version": "1.5.0",
            "_model_name": "DescriptionStyleModel",
            "_view_count": null,
            "_view_module": "@jupyter-widgets/base",
            "_view_module_version": "1.2.0",
            "_view_name": "StyleView",
            "description_width": ""
          }
        },
        "b90eea62bd3a4e5c8ec6ef5f195b4325": {
          "model_module": "@jupyter-widgets/controls",
          "model_name": "HBoxModel",
          "model_module_version": "1.5.0",
          "state": {
            "_dom_classes": [],
            "_model_module": "@jupyter-widgets/controls",
            "_model_module_version": "1.5.0",
            "_model_name": "HBoxModel",
            "_view_count": null,
            "_view_module": "@jupyter-widgets/controls",
            "_view_module_version": "1.5.0",
            "_view_name": "HBoxView",
            "box_style": "",
            "children": [
              "IPY_MODEL_add7f37841ff4fbe9ef8fd165b577d7f",
              "IPY_MODEL_2c83591b94994e65abe336e593895484",
              "IPY_MODEL_9263279152614131a10fece36bd4b59a"
            ],
            "layout": "IPY_MODEL_5eec9e0472dc41eeabdb1d316af98654"
          }
        },
        "add7f37841ff4fbe9ef8fd165b577d7f": {
          "model_module": "@jupyter-widgets/controls",
          "model_name": "HTMLModel",
          "model_module_version": "1.5.0",
          "state": {
            "_dom_classes": [],
            "_model_module": "@jupyter-widgets/controls",
            "_model_module_version": "1.5.0",
            "_model_name": "HTMLModel",
            "_view_count": null,
            "_view_module": "@jupyter-widgets/controls",
            "_view_module_version": "1.5.0",
            "_view_name": "HTMLView",
            "description": "",
            "description_tooltip": null,
            "layout": "IPY_MODEL_8b425ea1dcb341e398efeef8e8507cfe",
            "placeholder": "​",
            "style": "IPY_MODEL_6992b20a52d449feb40f5127e8ada159",
            "value": "special_tokens_map.json: 100%"
          }
        },
        "2c83591b94994e65abe336e593895484": {
          "model_module": "@jupyter-widgets/controls",
          "model_name": "FloatProgressModel",
          "model_module_version": "1.5.0",
          "state": {
            "_dom_classes": [],
            "_model_module": "@jupyter-widgets/controls",
            "_model_module_version": "1.5.0",
            "_model_name": "FloatProgressModel",
            "_view_count": null,
            "_view_module": "@jupyter-widgets/controls",
            "_view_module_version": "1.5.0",
            "_view_name": "ProgressView",
            "bar_style": "success",
            "description": "",
            "description_tooltip": null,
            "layout": "IPY_MODEL_d65f39ce26d44a0ba4c115ba75a04bfa",
            "max": 112,
            "min": 0,
            "orientation": "horizontal",
            "style": "IPY_MODEL_2f7588806c48402d8926ae67d880e2ed",
            "value": 112
          }
        },
        "9263279152614131a10fece36bd4b59a": {
          "model_module": "@jupyter-widgets/controls",
          "model_name": "HTMLModel",
          "model_module_version": "1.5.0",
          "state": {
            "_dom_classes": [],
            "_model_module": "@jupyter-widgets/controls",
            "_model_module_version": "1.5.0",
            "_model_name": "HTMLModel",
            "_view_count": null,
            "_view_module": "@jupyter-widgets/controls",
            "_view_module_version": "1.5.0",
            "_view_name": "HTMLView",
            "description": "",
            "description_tooltip": null,
            "layout": "IPY_MODEL_942d999e87564e9390521423762084b1",
            "placeholder": "​",
            "style": "IPY_MODEL_671ac5f8182043dcaf7e27c3f0b14777",
            "value": " 112/112 [00:00&lt;00:00, 10.4kB/s]"
          }
        },
        "5eec9e0472dc41eeabdb1d316af98654": {
          "model_module": "@jupyter-widgets/base",
          "model_name": "LayoutModel",
          "model_module_version": "1.2.0",
          "state": {
            "_model_module": "@jupyter-widgets/base",
            "_model_module_version": "1.2.0",
            "_model_name": "LayoutModel",
            "_view_count": null,
            "_view_module": "@jupyter-widgets/base",
            "_view_module_version": "1.2.0",
            "_view_name": "LayoutView",
            "align_content": null,
            "align_items": null,
            "align_self": null,
            "border": null,
            "bottom": null,
            "display": null,
            "flex": null,
            "flex_flow": null,
            "grid_area": null,
            "grid_auto_columns": null,
            "grid_auto_flow": null,
            "grid_auto_rows": null,
            "grid_column": null,
            "grid_gap": null,
            "grid_row": null,
            "grid_template_areas": null,
            "grid_template_columns": null,
            "grid_template_rows": null,
            "height": null,
            "justify_content": null,
            "justify_items": null,
            "left": null,
            "margin": null,
            "max_height": null,
            "max_width": null,
            "min_height": null,
            "min_width": null,
            "object_fit": null,
            "object_position": null,
            "order": null,
            "overflow": null,
            "overflow_x": null,
            "overflow_y": null,
            "padding": null,
            "right": null,
            "top": null,
            "visibility": null,
            "width": null
          }
        },
        "8b425ea1dcb341e398efeef8e8507cfe": {
          "model_module": "@jupyter-widgets/base",
          "model_name": "LayoutModel",
          "model_module_version": "1.2.0",
          "state": {
            "_model_module": "@jupyter-widgets/base",
            "_model_module_version": "1.2.0",
            "_model_name": "LayoutModel",
            "_view_count": null,
            "_view_module": "@jupyter-widgets/base",
            "_view_module_version": "1.2.0",
            "_view_name": "LayoutView",
            "align_content": null,
            "align_items": null,
            "align_self": null,
            "border": null,
            "bottom": null,
            "display": null,
            "flex": null,
            "flex_flow": null,
            "grid_area": null,
            "grid_auto_columns": null,
            "grid_auto_flow": null,
            "grid_auto_rows": null,
            "grid_column": null,
            "grid_gap": null,
            "grid_row": null,
            "grid_template_areas": null,
            "grid_template_columns": null,
            "grid_template_rows": null,
            "height": null,
            "justify_content": null,
            "justify_items": null,
            "left": null,
            "margin": null,
            "max_height": null,
            "max_width": null,
            "min_height": null,
            "min_width": null,
            "object_fit": null,
            "object_position": null,
            "order": null,
            "overflow": null,
            "overflow_x": null,
            "overflow_y": null,
            "padding": null,
            "right": null,
            "top": null,
            "visibility": null,
            "width": null
          }
        },
        "6992b20a52d449feb40f5127e8ada159": {
          "model_module": "@jupyter-widgets/controls",
          "model_name": "DescriptionStyleModel",
          "model_module_version": "1.5.0",
          "state": {
            "_model_module": "@jupyter-widgets/controls",
            "_model_module_version": "1.5.0",
            "_model_name": "DescriptionStyleModel",
            "_view_count": null,
            "_view_module": "@jupyter-widgets/base",
            "_view_module_version": "1.2.0",
            "_view_name": "StyleView",
            "description_width": ""
          }
        },
        "d65f39ce26d44a0ba4c115ba75a04bfa": {
          "model_module": "@jupyter-widgets/base",
          "model_name": "LayoutModel",
          "model_module_version": "1.2.0",
          "state": {
            "_model_module": "@jupyter-widgets/base",
            "_model_module_version": "1.2.0",
            "_model_name": "LayoutModel",
            "_view_count": null,
            "_view_module": "@jupyter-widgets/base",
            "_view_module_version": "1.2.0",
            "_view_name": "LayoutView",
            "align_content": null,
            "align_items": null,
            "align_self": null,
            "border": null,
            "bottom": null,
            "display": null,
            "flex": null,
            "flex_flow": null,
            "grid_area": null,
            "grid_auto_columns": null,
            "grid_auto_flow": null,
            "grid_auto_rows": null,
            "grid_column": null,
            "grid_gap": null,
            "grid_row": null,
            "grid_template_areas": null,
            "grid_template_columns": null,
            "grid_template_rows": null,
            "height": null,
            "justify_content": null,
            "justify_items": null,
            "left": null,
            "margin": null,
            "max_height": null,
            "max_width": null,
            "min_height": null,
            "min_width": null,
            "object_fit": null,
            "object_position": null,
            "order": null,
            "overflow": null,
            "overflow_x": null,
            "overflow_y": null,
            "padding": null,
            "right": null,
            "top": null,
            "visibility": null,
            "width": null
          }
        },
        "2f7588806c48402d8926ae67d880e2ed": {
          "model_module": "@jupyter-widgets/controls",
          "model_name": "ProgressStyleModel",
          "model_module_version": "1.5.0",
          "state": {
            "_model_module": "@jupyter-widgets/controls",
            "_model_module_version": "1.5.0",
            "_model_name": "ProgressStyleModel",
            "_view_count": null,
            "_view_module": "@jupyter-widgets/base",
            "_view_module_version": "1.2.0",
            "_view_name": "StyleView",
            "bar_color": null,
            "description_width": ""
          }
        },
        "942d999e87564e9390521423762084b1": {
          "model_module": "@jupyter-widgets/base",
          "model_name": "LayoutModel",
          "model_module_version": "1.2.0",
          "state": {
            "_model_module": "@jupyter-widgets/base",
            "_model_module_version": "1.2.0",
            "_model_name": "LayoutModel",
            "_view_count": null,
            "_view_module": "@jupyter-widgets/base",
            "_view_module_version": "1.2.0",
            "_view_name": "LayoutView",
            "align_content": null,
            "align_items": null,
            "align_self": null,
            "border": null,
            "bottom": null,
            "display": null,
            "flex": null,
            "flex_flow": null,
            "grid_area": null,
            "grid_auto_columns": null,
            "grid_auto_flow": null,
            "grid_auto_rows": null,
            "grid_column": null,
            "grid_gap": null,
            "grid_row": null,
            "grid_template_areas": null,
            "grid_template_columns": null,
            "grid_template_rows": null,
            "height": null,
            "justify_content": null,
            "justify_items": null,
            "left": null,
            "margin": null,
            "max_height": null,
            "max_width": null,
            "min_height": null,
            "min_width": null,
            "object_fit": null,
            "object_position": null,
            "order": null,
            "overflow": null,
            "overflow_x": null,
            "overflow_y": null,
            "padding": null,
            "right": null,
            "top": null,
            "visibility": null,
            "width": null
          }
        },
        "671ac5f8182043dcaf7e27c3f0b14777": {
          "model_module": "@jupyter-widgets/controls",
          "model_name": "DescriptionStyleModel",
          "model_module_version": "1.5.0",
          "state": {
            "_model_module": "@jupyter-widgets/controls",
            "_model_module_version": "1.5.0",
            "_model_name": "DescriptionStyleModel",
            "_view_count": null,
            "_view_module": "@jupyter-widgets/base",
            "_view_module_version": "1.2.0",
            "_view_name": "StyleView",
            "description_width": ""
          }
        },
        "af8060fb3829480bbb0b0d38b9783f86": {
          "model_module": "@jupyter-widgets/controls",
          "model_name": "HBoxModel",
          "model_module_version": "1.5.0",
          "state": {
            "_dom_classes": [],
            "_model_module": "@jupyter-widgets/controls",
            "_model_module_version": "1.5.0",
            "_model_name": "HBoxModel",
            "_view_count": null,
            "_view_module": "@jupyter-widgets/controls",
            "_view_module_version": "1.5.0",
            "_view_name": "HBoxView",
            "box_style": "",
            "children": [
              "IPY_MODEL_92fd3a43bbb54cd89f20e2d273be9388",
              "IPY_MODEL_01bac6e87af8494fb6f168cf669d028c",
              "IPY_MODEL_8340a2541cb4448ea73ff6752d0ed442"
            ],
            "layout": "IPY_MODEL_ad7314aefbf14992840370b2501c1c63"
          }
        },
        "92fd3a43bbb54cd89f20e2d273be9388": {
          "model_module": "@jupyter-widgets/controls",
          "model_name": "HTMLModel",
          "model_module_version": "1.5.0",
          "state": {
            "_dom_classes": [],
            "_model_module": "@jupyter-widgets/controls",
            "_model_module_version": "1.5.0",
            "_model_name": "HTMLModel",
            "_view_count": null,
            "_view_module": "@jupyter-widgets/controls",
            "_view_module_version": "1.5.0",
            "_view_name": "HTMLView",
            "description": "",
            "description_tooltip": null,
            "layout": "IPY_MODEL_95f9e7d864244036abc85eeb69f9fc6f",
            "placeholder": "​",
            "style": "IPY_MODEL_532fde3c3d344e6e9230ff12d34d4f91",
            "value": "config.json: 100%"
          }
        },
        "01bac6e87af8494fb6f168cf669d028c": {
          "model_module": "@jupyter-widgets/controls",
          "model_name": "FloatProgressModel",
          "model_module_version": "1.5.0",
          "state": {
            "_dom_classes": [],
            "_model_module": "@jupyter-widgets/controls",
            "_model_module_version": "1.5.0",
            "_model_name": "FloatProgressModel",
            "_view_count": null,
            "_view_module": "@jupyter-widgets/controls",
            "_view_module_version": "1.5.0",
            "_view_name": "ProgressView",
            "bar_style": "success",
            "description": "",
            "description_tooltip": null,
            "layout": "IPY_MODEL_b50993b61ce645fe8f8c4de54e9346d5",
            "max": 468,
            "min": 0,
            "orientation": "horizontal",
            "style": "IPY_MODEL_b58fab97bf2e4873bcdb105daaaccffc",
            "value": 468
          }
        },
        "8340a2541cb4448ea73ff6752d0ed442": {
          "model_module": "@jupyter-widgets/controls",
          "model_name": "HTMLModel",
          "model_module_version": "1.5.0",
          "state": {
            "_dom_classes": [],
            "_model_module": "@jupyter-widgets/controls",
            "_model_module_version": "1.5.0",
            "_model_name": "HTMLModel",
            "_view_count": null,
            "_view_module": "@jupyter-widgets/controls",
            "_view_module_version": "1.5.0",
            "_view_name": "HTMLView",
            "description": "",
            "description_tooltip": null,
            "layout": "IPY_MODEL_2cb952a0ab1d4b8b9ab39a44a0c9b8c0",
            "placeholder": "​",
            "style": "IPY_MODEL_8322f56be2e74420a92446b7d4ca2dae",
            "value": " 468/468 [00:00&lt;00:00, 41.3kB/s]"
          }
        },
        "ad7314aefbf14992840370b2501c1c63": {
          "model_module": "@jupyter-widgets/base",
          "model_name": "LayoutModel",
          "model_module_version": "1.2.0",
          "state": {
            "_model_module": "@jupyter-widgets/base",
            "_model_module_version": "1.2.0",
            "_model_name": "LayoutModel",
            "_view_count": null,
            "_view_module": "@jupyter-widgets/base",
            "_view_module_version": "1.2.0",
            "_view_name": "LayoutView",
            "align_content": null,
            "align_items": null,
            "align_self": null,
            "border": null,
            "bottom": null,
            "display": null,
            "flex": null,
            "flex_flow": null,
            "grid_area": null,
            "grid_auto_columns": null,
            "grid_auto_flow": null,
            "grid_auto_rows": null,
            "grid_column": null,
            "grid_gap": null,
            "grid_row": null,
            "grid_template_areas": null,
            "grid_template_columns": null,
            "grid_template_rows": null,
            "height": null,
            "justify_content": null,
            "justify_items": null,
            "left": null,
            "margin": null,
            "max_height": null,
            "max_width": null,
            "min_height": null,
            "min_width": null,
            "object_fit": null,
            "object_position": null,
            "order": null,
            "overflow": null,
            "overflow_x": null,
            "overflow_y": null,
            "padding": null,
            "right": null,
            "top": null,
            "visibility": null,
            "width": null
          }
        },
        "95f9e7d864244036abc85eeb69f9fc6f": {
          "model_module": "@jupyter-widgets/base",
          "model_name": "LayoutModel",
          "model_module_version": "1.2.0",
          "state": {
            "_model_module": "@jupyter-widgets/base",
            "_model_module_version": "1.2.0",
            "_model_name": "LayoutModel",
            "_view_count": null,
            "_view_module": "@jupyter-widgets/base",
            "_view_module_version": "1.2.0",
            "_view_name": "LayoutView",
            "align_content": null,
            "align_items": null,
            "align_self": null,
            "border": null,
            "bottom": null,
            "display": null,
            "flex": null,
            "flex_flow": null,
            "grid_area": null,
            "grid_auto_columns": null,
            "grid_auto_flow": null,
            "grid_auto_rows": null,
            "grid_column": null,
            "grid_gap": null,
            "grid_row": null,
            "grid_template_areas": null,
            "grid_template_columns": null,
            "grid_template_rows": null,
            "height": null,
            "justify_content": null,
            "justify_items": null,
            "left": null,
            "margin": null,
            "max_height": null,
            "max_width": null,
            "min_height": null,
            "min_width": null,
            "object_fit": null,
            "object_position": null,
            "order": null,
            "overflow": null,
            "overflow_x": null,
            "overflow_y": null,
            "padding": null,
            "right": null,
            "top": null,
            "visibility": null,
            "width": null
          }
        },
        "532fde3c3d344e6e9230ff12d34d4f91": {
          "model_module": "@jupyter-widgets/controls",
          "model_name": "DescriptionStyleModel",
          "model_module_version": "1.5.0",
          "state": {
            "_model_module": "@jupyter-widgets/controls",
            "_model_module_version": "1.5.0",
            "_model_name": "DescriptionStyleModel",
            "_view_count": null,
            "_view_module": "@jupyter-widgets/base",
            "_view_module_version": "1.2.0",
            "_view_name": "StyleView",
            "description_width": ""
          }
        },
        "b50993b61ce645fe8f8c4de54e9346d5": {
          "model_module": "@jupyter-widgets/base",
          "model_name": "LayoutModel",
          "model_module_version": "1.2.0",
          "state": {
            "_model_module": "@jupyter-widgets/base",
            "_model_module_version": "1.2.0",
            "_model_name": "LayoutModel",
            "_view_count": null,
            "_view_module": "@jupyter-widgets/base",
            "_view_module_version": "1.2.0",
            "_view_name": "LayoutView",
            "align_content": null,
            "align_items": null,
            "align_self": null,
            "border": null,
            "bottom": null,
            "display": null,
            "flex": null,
            "flex_flow": null,
            "grid_area": null,
            "grid_auto_columns": null,
            "grid_auto_flow": null,
            "grid_auto_rows": null,
            "grid_column": null,
            "grid_gap": null,
            "grid_row": null,
            "grid_template_areas": null,
            "grid_template_columns": null,
            "grid_template_rows": null,
            "height": null,
            "justify_content": null,
            "justify_items": null,
            "left": null,
            "margin": null,
            "max_height": null,
            "max_width": null,
            "min_height": null,
            "min_width": null,
            "object_fit": null,
            "object_position": null,
            "order": null,
            "overflow": null,
            "overflow_x": null,
            "overflow_y": null,
            "padding": null,
            "right": null,
            "top": null,
            "visibility": null,
            "width": null
          }
        },
        "b58fab97bf2e4873bcdb105daaaccffc": {
          "model_module": "@jupyter-widgets/controls",
          "model_name": "ProgressStyleModel",
          "model_module_version": "1.5.0",
          "state": {
            "_model_module": "@jupyter-widgets/controls",
            "_model_module_version": "1.5.0",
            "_model_name": "ProgressStyleModel",
            "_view_count": null,
            "_view_module": "@jupyter-widgets/base",
            "_view_module_version": "1.2.0",
            "_view_name": "StyleView",
            "bar_color": null,
            "description_width": ""
          }
        },
        "2cb952a0ab1d4b8b9ab39a44a0c9b8c0": {
          "model_module": "@jupyter-widgets/base",
          "model_name": "LayoutModel",
          "model_module_version": "1.2.0",
          "state": {
            "_model_module": "@jupyter-widgets/base",
            "_model_module_version": "1.2.0",
            "_model_name": "LayoutModel",
            "_view_count": null,
            "_view_module": "@jupyter-widgets/base",
            "_view_module_version": "1.2.0",
            "_view_name": "LayoutView",
            "align_content": null,
            "align_items": null,
            "align_self": null,
            "border": null,
            "bottom": null,
            "display": null,
            "flex": null,
            "flex_flow": null,
            "grid_area": null,
            "grid_auto_columns": null,
            "grid_auto_flow": null,
            "grid_auto_rows": null,
            "grid_column": null,
            "grid_gap": null,
            "grid_row": null,
            "grid_template_areas": null,
            "grid_template_columns": null,
            "grid_template_rows": null,
            "height": null,
            "justify_content": null,
            "justify_items": null,
            "left": null,
            "margin": null,
            "max_height": null,
            "max_width": null,
            "min_height": null,
            "min_width": null,
            "object_fit": null,
            "object_position": null,
            "order": null,
            "overflow": null,
            "overflow_x": null,
            "overflow_y": null,
            "padding": null,
            "right": null,
            "top": null,
            "visibility": null,
            "width": null
          }
        },
        "8322f56be2e74420a92446b7d4ca2dae": {
          "model_module": "@jupyter-widgets/controls",
          "model_name": "DescriptionStyleModel",
          "model_module_version": "1.5.0",
          "state": {
            "_model_module": "@jupyter-widgets/controls",
            "_model_module_version": "1.5.0",
            "_model_name": "DescriptionStyleModel",
            "_view_count": null,
            "_view_module": "@jupyter-widgets/base",
            "_view_module_version": "1.2.0",
            "_view_name": "StyleView",
            "description_width": ""
          }
        }
      }
    }
  },
  "cells": [
    {
      "cell_type": "markdown",
      "metadata": {
        "id": "view-in-github",
        "colab_type": "text"
      },
      "source": [
        "<a href=\"https://colab.research.google.com/github/CatXp0/reviewBERT/blob/main/ReviewBERT_final.ipynb\" target=\"_parent\"><img src=\"https://colab.research.google.com/assets/colab-badge.svg\" alt=\"Open In Colab\"/></a>"
      ]
    },
    {
      "cell_type": "code",
      "source": [
        "# instalam pachetul transformers, dezvoltat de Hugging Face\n",
        "!pip install -qq transformers\n",
        "# instalam pachetul demoji, care este utilizat pentru a lucra cu emoji-uri in text\n",
        "!pip install -qq demoji"
      ],
      "metadata": {
        "id": "MLrz--GC9Qth",
        "colab": {
          "base_uri": "https://localhost:8080/"
        },
        "outputId": "fb4e0133-d028-4005-cb17-b0194938ff0e"
      },
      "execution_count": null,
      "outputs": [
        {
          "output_type": "stream",
          "name": "stdout",
          "text": [
            "\u001b[?25l     \u001b[90m━━━━━━━━━━━━━━━━━━━━━━━━━━━━━━━━━━━━━━━━\u001b[0m \u001b[32m0.0/42.9 kB\u001b[0m \u001b[31m?\u001b[0m eta \u001b[36m-:--:--\u001b[0m\r\u001b[2K     \u001b[90m━━━━━━━━━━━━━━━━━━━━━━━━━━━━━━━━━━━━━━━━\u001b[0m \u001b[32m42.9/42.9 kB\u001b[0m \u001b[31m1.7 MB/s\u001b[0m eta \u001b[36m0:00:00\u001b[0m\n",
            "\u001b[?25h"
          ]
        }
      ]
    },
    {
      "cell_type": "code",
      "source": [
        "# importam bibliotecile\n",
        "import transformers\n",
        "import pandas as pd\n",
        "import torch\n",
        "import seaborn as sns\n",
        "import matplotlib.pyplot as plt\n",
        "import numpy as np\n",
        "import torch.nn.functional as F\n",
        "import re, string\n",
        "import demoji\n",
        "\n",
        "from transformers import BertTokenizerFast, BertModel, BertTokenizer, AdamW, get_linear_schedule_with_warmup\n",
        "from torch.utils.data import Dataset, DataLoader\n",
        "from sklearn.metrics import accuracy_score, f1_score, confusion_matrix, classification_report\n",
        "from sklearn.model_selection import train_test_split\n",
        "from torch import nn\n",
        "from collections import defaultdict\n",
        "from textwrap import wrap\n",
        "from imblearn.over_sampling import RandomOverSampler"
      ],
      "metadata": {
        "id": "LnLWBporc7ye"
      },
      "execution_count": null,
      "outputs": []
    },
    {
      "cell_type": "code",
      "source": [
        "# verificam device-ul pe care se va efectua calculul tensorilor atunci cand folosim pytorch\n",
        "# se verifica daca un gpu este disponibil si, daca este, il va folosi pentru calcule. Altfel, va folosi cpu\n",
        "device = torch.device(\"cuda:0\" if torch.cuda.is_available() else \"cpu\")"
      ],
      "metadata": {
        "id": "3q0wviZhZckG"
      },
      "execution_count": null,
      "outputs": []
    },
    {
      "cell_type": "code",
      "source": [
        "# folosim modelul de pe hugging face https://huggingface.co/readerbench/RoBERT-base\n",
        "PRE_TRAINED_MODEL_NAME = 'readerbench/RoBERT-base';"
      ],
      "metadata": {
        "id": "uKsS97b_03qH"
      },
      "execution_count": null,
      "outputs": []
    },
    {
      "cell_type": "markdown",
      "source": [
        "# Data processing"
      ],
      "metadata": {
        "id": "MDpRokVETl_8"
      }
    },
    {
      "cell_type": "code",
      "source": [
        "# incarcam feedback-urile din csv\n",
        "val_data = pd.read_csv('/content/product_reviews_export.csv', delimiter=';')\n",
        "val_data.head()"
      ],
      "metadata": {
        "id": "Fw1mvxw9cb1t"
      },
      "execution_count": null,
      "outputs": []
    },
    {
      "source": [
        "# @title gpt_rating vs rating\n",
        "\n",
        "from matplotlib import pyplot as plt\n",
        "import seaborn as sns\n",
        "figsize = (12, 1.2 * len(val_data['gpt_rating'].unique()))\n",
        "plt.figure(figsize=figsize)\n",
        "sns.violinplot(val_data, x='rating', y='gpt_rating', inner='box', palette='Dark2')\n",
        "sns.despine(top=True, right=True, bottom=True, left=True)"
      ],
      "cell_type": "code",
      "execution_count": null,
      "outputs": [
        {
          "output_type": "stream",
          "name": "stderr",
          "text": [
            "<ipython-input-110-9b2bc2a60194>:7: FutureWarning: \n",
            "\n",
            "Passing `palette` without assigning `hue` is deprecated and will be removed in v0.14.0. Assign the `y` variable to `hue` and set `legend=False` for the same effect.\n",
            "\n",
            "  sns.violinplot(val_data, x='rating', y='gpt_rating', inner='box', palette='Dark2')\n"
          ]
        },
        {
          "output_type": "display_data",
          "data": {
            "text/plain": [
              "<Figure size 1200x600 with 1 Axes>"
            ],
            "image/png": "[encoded data removed]"
          },
          "metadata": {}
        }
      ],
      "metadata": {
        "colab": {
          "base_uri": "https://localhost:8080/",
          "height": 649
        },
        "id": "afrd57dj1Qr6",
        "outputId": "3afe9717-46c3-4a01-dae3-ed25adc2c830",
        "cellView": "form"
      }
    },
    {
      "cell_type": "code",
      "source": [
        "val_data.info()"
      ],
      "metadata": {
        "colab": {
          "base_uri": "https://localhost:8080/"
        },
        "id": "UvUmKerMLpH8",
        "outputId": "86571b31-0a19-4c16-efe9-8e23398fccef"
      },
      "execution_count": null,
      "outputs": [
        {
          "output_type": "stream",
          "name": "stdout",
          "text": [
            "<class 'pandas.core.frame.DataFrame'>\n",
            "RangeIndex: 15825 entries, 0 to 15824\n",
            "Data columns (total 12 columns):\n",
            " #   Column             Non-Null Count  Dtype \n",
            "---  ------             --------------  ----- \n",
            " 0   id                 15825 non-null  int64 \n",
            " 1   source             15825 non-null  object\n",
            " 2   review_id          15825 non-null  int64 \n",
            " 3   product_id         15825 non-null  int64 \n",
            " 4   review             15825 non-null  object\n",
            " 5   title              15823 non-null  object\n",
            " 6   rating             15825 non-null  int64 \n",
            " 7   gpt_rating         15825 non-null  int64 \n",
            " 8   source_created_at  15825 non-null  object\n",
            " 9   source_updated_at  15825 non-null  object\n",
            " 10  created_at         15825 non-null  object\n",
            " 11  updated_at         15825 non-null  object\n",
            "dtypes: int64(5), object(7)\n",
            "memory usage: 1.4+ MB\n"
          ]
        }
      ]
    },
    {
      "cell_type": "code",
      "source": [
        "# stergem duplicatele din coloana review\n",
        "val_data.drop_duplicates(subset='review',inplace=True)"
      ],
      "metadata": {
        "id": "-UTRtxTCLKQ-"
      },
      "execution_count": null,
      "outputs": []
    },
    {
      "cell_type": "code",
      "source": [
        "val_data.shape"
      ],
      "metadata": {
        "colab": {
          "base_uri": "https://localhost:8080/"
        },
        "id": "ldHNVYqHaQ0P",
        "outputId": "4024288c-327c-4101-9355-705b69e19e89"
      },
      "execution_count": null,
      "outputs": [
        {
          "output_type": "execute_result",
          "data": {
            "text/plain": [
              "(10302, 12)"
            ]
          },
          "metadata": {},
          "execution_count": 24
        }
      ]
    },
    {
      "cell_type": "code",
      "source": [
        "# cleanup diacritice\n",
        "def cleanup_text(text):\n",
        "  text = text.replace('\\r', '').replace('\\n', ' ').replace('\\n', ' ')\n",
        "  text = text.replace(\"ţ\", \"ț\").replace(\"ş\", \"ș\").replace(\"Ţ\", \"Ț\").replace(\"Ş\", \"Ș\")\n",
        "  return text\n",
        "\n",
        "def cleanup_emoji(text):\n",
        "  return demoji.replace(text, '')"
      ],
      "metadata": {
        "id": "YLoUshHGL-ow"
      },
      "execution_count": null,
      "outputs": []
    },
    {
      "cell_type": "code",
      "source": [
        "# curatam textul de diacritice gresite si emoji-uri\n",
        "texts_new = []\n",
        "for t in val_data.review:\n",
        "  newTxt = cleanup_text(cleanup_emoji(str(t)));\n",
        "  newTxt = newTxt[:512]\n",
        "  texts_new.append(newTxt)\n",
        "\n",
        "val_data['text_clean'] = texts_new\n",
        "\n",
        "ratings = []\n",
        "for s in val_data.gpt_rating:\n",
        "  ratings.append(str(s))\n",
        "\n",
        "# mapam rating-ul de tip string 1,2,3,4,5 la 0,1,2,3,4 pentru a putea lucra cu ea\n",
        "val_data['gpt_rating'] = ratings\n",
        "val_data['score'] = val_data['gpt_rating'].map({'1':0,'2':1,'3':2,'4':3,'5':4})\n",
        "val_data.info()\n",
        "\n",
        "# stergem feedback-urile cu 0 litere\n",
        "val_data = val_data[val_data['text_clean'] != \"\"].reset_index(drop=True)"
      ],
      "metadata": {
        "colab": {
          "base_uri": "https://localhost:8080/"
        },
        "id": "HKedMdKGNvgA",
        "outputId": "54cf3cbc-6f2b-4ebb-f53c-b9a70f5cda5d"
      },
      "execution_count": null,
      "outputs": [
        {
          "output_type": "stream",
          "name": "stdout",
          "text": [
            "<class 'pandas.core.frame.DataFrame'>\n",
            "RangeIndex: 10301 entries, 0 to 10300\n",
            "Data columns (total 15 columns):\n",
            " #   Column             Non-Null Count  Dtype \n",
            "---  ------             --------------  ----- \n",
            " 0   id                 10301 non-null  int64 \n",
            " 1   source             10301 non-null  object\n",
            " 2   review_id          10301 non-null  int64 \n",
            " 3   product_id         10301 non-null  int64 \n",
            " 4   review             10301 non-null  object\n",
            " 5   title              10300 non-null  object\n",
            " 6   rating             10301 non-null  int64 \n",
            " 7   gpt_rating         10301 non-null  object\n",
            " 8   source_created_at  10301 non-null  object\n",
            " 9   source_updated_at  10301 non-null  object\n",
            " 10  created_at         10301 non-null  object\n",
            " 11  updated_at         10301 non-null  object\n",
            " 12  text_clean         10301 non-null  object\n",
            " 13  score              10301 non-null  int64 \n",
            " 14  text_len           10301 non-null  int64 \n",
            "dtypes: int64(6), object(9)\n",
            "memory usage: 1.2+ MB\n"
          ]
        }
      ]
    },
    {
      "cell_type": "code",
      "source": [
        "val_data['text_clean'].head()"
      ],
      "metadata": {
        "colab": {
          "base_uri": "https://localhost:8080/"
        },
        "id": "AAfhzDYEVXgg",
        "outputId": "4b040e49-5bed-4546-9553-451d62457437"
      },
      "execution_count": null,
      "outputs": [
        {
          "output_type": "execute_result",
          "data": {
            "text/plain": [
              "0                          Foarte multumita de produs!\n",
              "1    Fata de alte șervețele de pe piata, de la care...\n",
              "2    Nu recomand persoanelor cu tenul sensibil. M-a...\n",
              "3    Curata foarte bine și machiajul rezistent la a...\n",
              "4    Servetele fine, placute, destul de umede, pent...\n",
              "Name: text_clean, dtype: object"
            ]
          },
          "metadata": {},
          "execution_count": 41
        }
      ]
    },
    {
      "cell_type": "code",
      "source": [
        "text_len = []\n",
        "for text in val_data.text_clean:\n",
        "  review_length = len(text)\n",
        "  text_len.append(review_length)\n",
        "\n",
        "val_data['text_len'] = text_len\n",
        "val_data['text_len'].head()"
      ],
      "metadata": {
        "colab": {
          "base_uri": "https://localhost:8080/"
        },
        "id": "zknKu7LkPimq",
        "outputId": "7a72ef6a-b3be-4a22-8e3b-83f9c69a55b2"
      },
      "execution_count": null,
      "outputs": [
        {
          "output_type": "execute_result",
          "data": {
            "text/plain": [
              "0     27\n",
              "1    156\n",
              "2    143\n",
              "3     85\n",
              "4     96\n",
              "Name: text_len, dtype: int64"
            ]
          },
          "metadata": {},
          "execution_count": 42
        }
      ]
    },
    {
      "cell_type": "code",
      "source": [
        "plt.figure(figsize=(7,5))\n",
        "ax = sns.countplot(x='text_len', data=val_data[val_data['text_len']<10], palette='rocket')\n",
        "plt.title('Feedback-uri cu mai putin de 10 litere')\n",
        "plt.yticks([])\n",
        "ax.bar_label(ax.containers[0])\n",
        "plt.ylabel('numar')\n",
        "plt.xlabel('')\n",
        "plt.show()"
      ],
      "metadata": {
        "colab": {
          "base_uri": "https://localhost:8080/",
          "height": 575
        },
        "id": "ghXOCkIKP090",
        "outputId": "a5232d1b-ee57-4c34-fef1-2e4ba1bff33c"
      },
      "execution_count": null,
      "outputs": [
        {
          "output_type": "stream",
          "name": "stderr",
          "text": [
            "<ipython-input-43-3a4790e96205>:2: FutureWarning: \n",
            "\n",
            "Passing `palette` without assigning `hue` is deprecated and will be removed in v0.14.0. Assign the `x` variable to `hue` and set `legend=False` for the same effect.\n",
            "\n",
            "  ax = sns.countplot(x='text_len', data=val_data[val_data['text_len']<10], palette='rocket')\n"
          ]
        },
        {
          "output_type": "display_data",
          "data": {
            "text/plain": [
              "<Figure size 700x500 with 1 Axes>"
            ],
            "image/png": "[encoded data removed]"
          },
          "metadata": {}
        }
      ]
    },
    {
      "cell_type": "code",
      "source": [
        "val_data['rating'].value_counts() # pentru a vedea nr de feedback-uri pt fiecare clasa"
      ],
      "metadata": {
        "colab": {
          "base_uri": "https://localhost:8080/"
        },
        "id": "CPDtfIbrRaIw",
        "outputId": "ff5116eb-a094-4066-c905-e64564b4634a"
      },
      "execution_count": null,
      "outputs": [
        {
          "output_type": "execute_result",
          "data": {
            "text/plain": [
              "rating\n",
              "5    8324\n",
              "4     751\n",
              "1     497\n",
              "3     437\n",
              "2     292\n",
              "Name: count, dtype: int64"
            ]
          },
          "metadata": {},
          "execution_count": 44
        }
      ]
    },
    {
      "cell_type": "code",
      "source": [
        "sns.countplot(x='rating', data=val_data, palette='bright', hue='rating', legend=False)\n",
        "plt.title('Distributia claselor')\n",
        "plt.ylabel('numar')\n",
        "plt.xlabel('scor feedback')\n",
        "plt.show()"
      ],
      "metadata": {
        "colab": {
          "base_uri": "https://localhost:8080/",
          "height": 472
        },
        "id": "IjAT-MU5cs8x",
        "outputId": "b91f2875-e0d0-45ec-f1c1-bb6d96c5feb3"
      },
      "execution_count": null,
      "outputs": [
        {
          "output_type": "display_data",
          "data": {
            "text/plain": [
              "<Figure size 640x480 with 1 Axes>"
            ],
            "image/png": "[encoded data removed]"
          },
          "metadata": {}
        }
      ]
    },
    {
      "cell_type": "code",
      "source": [
        "# incercam sa corectam dezechilibrul de clase\n",
        "# cream un RandomOverSampler pentru a gestiona suprasampling-ul datelor\n",
        "ros = RandomOverSampler()\n",
        "# convertim coloanele 'text_clean' si 'score' din val_data la array-uri numpy\n",
        "# si le remodelam pentru a avea dimensiunea potrivită pentru funcția fit_resample\n",
        "train_x, train_y = ros.fit_resample(\n",
        "    np.array(val_data['text_clean']).reshape(-1, 1),\n",
        "    np.array(val_data['score']).reshape(-1, 1));\n",
        "# crearea un DataFrame pandas din datele suprasample-uite\n",
        "train_os = pd.DataFrame(list(zip([x[0] for x in train_x], train_y)),\n",
        "                        columns = ['text_clean', 'score']);\n",
        "\n",
        "# putem vedea nr pt fiecare valoare a scorului din DataFrame-ul train_os\n",
        "train_os['score'].value_counts()"
      ],
      "metadata": {
        "colab": {
          "base_uri": "https://localhost:8080/"
        },
        "id": "iqUToxtMRsl4",
        "outputId": "6cc0ac16-1330-4165-bd21-f0b2911a1df5"
      },
      "execution_count": null,
      "outputs": [
        {
          "output_type": "execute_result",
          "data": {
            "text/plain": [
              "score\n",
              "4    7697\n",
              "0    7697\n",
              "2    7697\n",
              "3    7697\n",
              "1    7697\n",
              "Name: count, dtype: int64"
            ]
          },
          "metadata": {},
          "execution_count": 46
        }
      ]
    },
    {
      "cell_type": "code",
      "source": [
        "# initializam tokenizer-ul\n",
        "tokenizer = BertTokenizerFast.from_pretrained(PRE_TRAINED_MODEL_NAME)\n",
        "sample_txt = 'Culorile nu sunt foarte aprinse.'\n",
        "\n",
        "# tokenizam o propozitie si o trecem prin model\n",
        "input_ids = torch.tensor(tokenizer.encode(sample_txt)).unsqueeze(0)  # Batch size 1\n",
        "\n",
        "# tokenizam datele\n",
        "val_encodings = tokenizer(sample_txt, max_length=512, truncation=True)\n",
        "\n",
        "tokens = tokenizer.tokenize(sample_txt)\n",
        "token_ids = tokenizer.convert_tokens_to_ids(tokens)\n",
        "\n",
        "print(f' Sentence: {sample_txt}')\n",
        "print(f'   Tokens: {tokens}')\n",
        "print(f'Input IDs: {token_ids}')\n",
        "print(val_encodings)"
      ],
      "metadata": {
        "colab": {
          "base_uri": "https://localhost:8080/",
          "height": 339,
          "referenced_widgets": [
            "6bf930602476426ba43bf41b663f3ecc",
            "03efbe73f45746d8b2e171feded4fe3f",
            "424e18cb3bd34d399edbc83756ed53fc",
            "3c02e8798a6946c6afdc9e3f27afb7cf",
            "bf24323bd7f741fc9c8466c7c96d0264",
            "9b6cb33ce63649c3bafe45b98de38f9a",
            "9224591195a642df805598ce3840da03",
            "fe2b21d9aeda4972bf2b0e9345e91221",
            "b2cf6a08620149d19758e95ad1657634",
            "f7ccd0c7dbf04c778f6c80427e79258f",
            "cfd5f35a1cc746eb8b2f9603df6452dc",
            "99272de33ffa44e1b70213ef1c105493",
            "c53325a5b7154ff7925a74ba04fe4aa5",
            "0483fd4523b54764abf61f91b8321a5b",
            "5aa65d5a8b0542bd9b6e74f69d59fdab",
            "5a53242605ee4df18372d07ea7edf0d3",
            "e57d9cfec92040cc96a15104063f5e36",
            "c843537617ae4dacb02dc9cf83a55d46",
            "723498e4bb114103846a2c062c29edfe",
            "5136209ef419431e86fbf05f4b50e789",
            "2c6effafecea4911928d6f39bf86899b",
            "326dde958abf4f4c8d6aafa4f598d16f",
            "b90eea62bd3a4e5c8ec6ef5f195b4325",
            "add7f37841ff4fbe9ef8fd165b577d7f",
            "2c83591b94994e65abe336e593895484",
            "9263279152614131a10fece36bd4b59a",
            "5eec9e0472dc41eeabdb1d316af98654",
            "8b425ea1dcb341e398efeef8e8507cfe",
            "6992b20a52d449feb40f5127e8ada159",
            "d65f39ce26d44a0ba4c115ba75a04bfa",
            "2f7588806c48402d8926ae67d880e2ed",
            "942d999e87564e9390521423762084b1",
            "671ac5f8182043dcaf7e27c3f0b14777",
            "af8060fb3829480bbb0b0d38b9783f86",
            "92fd3a43bbb54cd89f20e2d273be9388",
            "01bac6e87af8494fb6f168cf669d028c",
            "8340a2541cb4448ea73ff6752d0ed442",
            "ad7314aefbf14992840370b2501c1c63",
            "95f9e7d864244036abc85eeb69f9fc6f",
            "532fde3c3d344e6e9230ff12d34d4f91",
            "b50993b61ce645fe8f8c4de54e9346d5",
            "b58fab97bf2e4873bcdb105daaaccffc",
            "2cb952a0ab1d4b8b9ab39a44a0c9b8c0",
            "8322f56be2e74420a92446b7d4ca2dae"
          ]
        },
        "id": "jAPemhbFTk0K",
        "outputId": "73b6398a-9336-446c-a824-c5faa98e83aa"
      },
      "execution_count": null,
      "outputs": [
        {
          "output_type": "stream",
          "name": "stderr",
          "text": [
            "/usr/local/lib/python3.10/dist-packages/huggingface_hub/utils/_token.py:88: UserWarning: \n",
            "The secret `HF_TOKEN` does not exist in your Colab secrets.\n",
            "To authenticate with the Hugging Face Hub, create a token in your settings tab (https://huggingface.co/settings/tokens), set it as secret in your Google Colab and restart your session.\n",
            "You will be able to reuse this secret in all of your notebooks.\n",
            "Please note that authentication is recommended but still optional to access public models or datasets.\n",
            "  warnings.warn(\n"
          ]
        },
        {
          "output_type": "display_data",
          "data": {
            "text/plain": [
              "tokenizer_config.json:   0%|          | 0.00/366 [00:00<?, ?B/s]"
            ],
            "application/vnd.jupyter.widget-view+json": {
              "version_major": 2,
              "version_minor": 0,
              "model_id": "6bf930602476426ba43bf41b663f3ecc"
            }
          },
          "metadata": {}
        },
        {
          "output_type": "display_data",
          "data": {
            "text/plain": [
              "vocab.txt:   0%|          | 0.00/245k [00:00<?, ?B/s]"
            ],
            "application/vnd.jupyter.widget-view+json": {
              "version_major": 2,
              "version_minor": 0,
              "model_id": "99272de33ffa44e1b70213ef1c105493"
            }
          },
          "metadata": {}
        },
        {
          "output_type": "display_data",
          "data": {
            "text/plain": [
              "special_tokens_map.json:   0%|          | 0.00/112 [00:00<?, ?B/s]"
            ],
            "application/vnd.jupyter.widget-view+json": {
              "version_major": 2,
              "version_minor": 0,
              "model_id": "b90eea62bd3a4e5c8ec6ef5f195b4325"
            }
          },
          "metadata": {}
        },
        {
          "output_type": "display_data",
          "data": {
            "text/plain": [
              "config.json:   0%|          | 0.00/468 [00:00<?, ?B/s]"
            ],
            "application/vnd.jupyter.widget-view+json": {
              "version_major": 2,
              "version_minor": 0,
              "model_id": "af8060fb3829480bbb0b0d38b9783f86"
            }
          },
          "metadata": {}
        },
        {
          "output_type": "stream",
          "name": "stdout",
          "text": [
            " Sentence: Culorile nu sunt foarte aprinse.\n",
            "   Tokens: ['culori', '##le', 'nu', 'sunt', 'foarte', 'aprins', '##e', '.']\n",
            "Input IDs: [2034, 38, 24, 42, 114, 6014, 9, 513]\n",
            "{'input_ids': [3, 2034, 38, 24, 42, 114, 6014, 9, 513, 4], 'token_type_ids': [0, 0, 0, 0, 0, 0, 0, 0, 0, 0], 'attention_mask': [1, 1, 1, 1, 1, 1, 1, 1, 1, 1]}\n"
          ]
        }
      ]
    },
    {
      "cell_type": "markdown",
      "source": [
        "Other"
      ],
      "metadata": {
        "id": "PSFh8BiTYaAG"
      }
    },
    {
      "cell_type": "code",
      "source": [
        "# calculam numarul maxim de tokeni\n",
        "token_lens = []\n",
        "\n",
        "# tokenizam fiecare feedback si il bagam in lista token_lens\n",
        "for txt in train_os['text_clean'].values:\n",
        "    tokens = tokenizer.encode(txt, max_length=None, truncation=True)\n",
        "    token_lens.append(len(tokens))\n",
        "\n",
        "# determină lungimea maxima a secventelor de tokeni din lista folosind functia\n",
        "# np.max din biblioteca numpy\n",
        "max_len=np.max(token_lens)\n",
        "print(f\"Numarul maxim de tokeni: {max_len}\")"
      ],
      "metadata": {
        "colab": {
          "base_uri": "https://localhost:8080/"
        },
        "id": "apbsOWCiTa2l",
        "outputId": "2cd78378-0e32-4c6b-b626-faa6df762fbc"
      },
      "execution_count": null,
      "outputs": [
        {
          "output_type": "stream",
          "name": "stdout",
          "text": [
            "Numarul maxim de tokeni: 151\n"
          ]
        }
      ]
    },
    {
      "cell_type": "code",
      "source": [
        "sns.displot(token_lens)\n",
        "plt.xlim([0, 256]);\n",
        "plt.xlabel('Numar de tokeni');\n",
        "plt.ylabel('Numar');"
      ],
      "metadata": {
        "colab": {
          "base_uri": "https://localhost:8080/",
          "height": 526
        },
        "id": "2EI5g8wIWAWj",
        "outputId": "8d6fa377-0628-4fff-e7f6-3cec0975213b"
      },
      "execution_count": null,
      "outputs": [
        {
          "output_type": "display_data",
          "data": {
            "text/plain": [
              "<Figure size 500x500 with 1 Axes>"
            ],
            "image/png": "[encoded data removed]"
          },
          "metadata": {}
        }
      ]
    },
    {
      "cell_type": "code",
      "source": [
        "# setam un seed pt functiile numpy si torch, ca sa putem reproduce rezultatele\n",
        "RANDOM_SEED = 42\n",
        "np.random.seed(RANDOM_SEED)\n",
        "torch.manual_seed(RANDOM_SEED)\n",
        "\n",
        "# impartim datele in seturi de antrenament, test si validare\n",
        "df_train, df_test = train_test_split(train_os, test_size=0.2, random_state=RANDOM_SEED)\n",
        "df_val, df_test = train_test_split(df_test, test_size=0.5, random_state=RANDOM_SEED)"
      ],
      "metadata": {
        "id": "AfRSnv0bXYBs"
      },
      "execution_count": null,
      "outputs": []
    },
    {
      "cell_type": "code",
      "source": [
        "df_train.shape, df_val.shape, df_test.shape"
      ],
      "metadata": {
        "colab": {
          "base_uri": "https://localhost:8080/"
        },
        "id": "QPDW7u3qXYKb",
        "outputId": "ab2b1518-7d0b-42e4-aae6-dbc979e230e8"
      },
      "execution_count": null,
      "outputs": [
        {
          "output_type": "execute_result",
          "data": {
            "text/plain": [
              "((30788, 2), (3848, 2), (3849, 2))"
            ]
          },
          "metadata": {},
          "execution_count": 81
        }
      ]
    },
    {
      "cell_type": "code",
      "source": [
        "# dataset custom care gestionează feedbackurile si scorurile acestora\n",
        "# Tokenizeaza textele si le converteste în tensori PyTorch\n",
        "class ReviewDataset(Dataset):\n",
        "  # constructorul\n",
        "  def __init__(self, reviews, targets, tokenizer, max_len):\n",
        "    self.reviews = reviews\n",
        "    self.targets = targets # scorurile asociate feedback-urilor\n",
        "    self.tokenizer = tokenizer\n",
        "    self.max_len = max_len # lungimea maxima pt tokenizare\n",
        "\n",
        "  # metoda pt a obtine lungimea datasetului\n",
        "  def __len__(self):\n",
        "    return len(self.reviews)\n",
        "\n",
        "  # metoda pentru obtinerea unui element din dataset la indexul specificat item\n",
        "  def __getitem__(self, item):\n",
        "    review = str(self.reviews[item])\n",
        "    target = self.targets[item]\n",
        "\n",
        "    # tokenizarea feedback-ului\n",
        "    encoding = self.tokenizer.encode_plus(\n",
        "      review,\n",
        "      add_special_tokens=True, # adauga tokenii speciali CLS si SEP\n",
        "      max_length=self.max_len, # trunchiază sau adauga PAD pana la lungimea max\n",
        "      return_token_type_ids=False, # nu returnează id-uri pentru tipurile de token\n",
        "      padding='max_length', # adauga padding la feedback pana la lungimea maximă\n",
        "      return_attention_mask=True, # returnează masca de atentie\n",
        "      return_tensors='pt' # returnează tensorii în format pytorch.\n",
        "    )\n",
        "\n",
        "    return {\n",
        "      'review_text': review,\n",
        "      # id-urile tokenilor (flatten pentru a reduce la un singur vector)\n",
        "      'input_ids': encoding['input_ids'].flatten(),\n",
        "      'attention_mask': encoding['attention_mask'].flatten(),\n",
        "      # scorurile pt feedback convertit intr-un tensor PyTorch de tip long\n",
        "      'targets': torch.tensor(target, dtype=torch.long)\n",
        "    }\n",
        "\n",
        "# creeaza un obiect DataLoader pentru dataset-ul dat\n",
        "def create_data_loader(df, tokenizer, max_len, batch_size):\n",
        "  ds = ReviewDataset(\n",
        "    reviews=df.text_clean.to_numpy(), # convertim feedbackul intr-un array numpy\n",
        "    targets=df.score.to_numpy(), # convertim scorul la un array numpy\n",
        "    tokenizer=tokenizer,\n",
        "    max_len=max_len\n",
        "  )\n",
        "\n",
        "  return DataLoader(\n",
        "    ds,\n",
        "    batch_size=batch_size, # dimensiunea batchului pentru antrenament\n",
        "    num_workers=4 # numarul de thread-uri pentru incarcarea datelor.\n",
        "  )"
      ],
      "metadata": {
        "id": "-hVz60zuZGCN"
      },
      "execution_count": null,
      "outputs": []
    },
    {
      "cell_type": "code",
      "source": [
        "BATCH_SIZE = 32\n",
        "MAX_LEN = 256\n",
        "\n",
        "# crearea DataLoader-elor pentru antrenament, validare si testare\n",
        "train_data_loader = create_data_loader(df_train, tokenizer, MAX_LEN, BATCH_SIZE)\n",
        "val_data_loader = create_data_loader(df_val, tokenizer, MAX_LEN, BATCH_SIZE)\n",
        "test_data_loader = create_data_loader(df_test, tokenizer, MAX_LEN, BATCH_SIZE)"
      ],
      "metadata": {
        "id": "c12_mdYCZPQE"
      },
      "execution_count": null,
      "outputs": []
    },
    {
      "cell_type": "code",
      "source": [
        "# extragem primul batch de date\n",
        "data = next(iter(train_data_loader))\n",
        "# afisam cheile din Afișează cheile din dictionarul data\n",
        "data.keys()"
      ],
      "metadata": {
        "colab": {
          "base_uri": "https://localhost:8080/"
        },
        "id": "2isgrMGaZXb5",
        "outputId": "b08bb9fa-8d05-471f-a392-bc6034d6cd46"
      },
      "execution_count": null,
      "outputs": [
        {
          "output_type": "stream",
          "name": "stderr",
          "text": [
            "/usr/lib/python3.10/multiprocessing/popen_fork.py:66: RuntimeWarning: os.fork() was called. os.fork() is incompatible with multithreaded code, and JAX is multithreaded, so this will likely lead to a deadlock.\n",
            "  self.pid = os.fork()\n"
          ]
        },
        {
          "output_type": "execute_result",
          "data": {
            "text/plain": [
              "dict_keys(['review_text', 'input_ids', 'attention_mask', 'targets'])"
            ]
          },
          "metadata": {},
          "execution_count": 85
        }
      ]
    },
    {
      "cell_type": "code",
      "source": [
        "# dimensiunile tensorului care conține id-urile tokenilor pentru fiecare recenzie din batch\n",
        "print(data['input_ids'].shape)\n",
        "# dimensiunile tensorului care conține masca de atenție pentru fiecare recenzie din batch\n",
        "print(data['attention_mask'].shape)\n",
        "# dimensiunile tensorului care contine scorurile pentru fiecare recenzie din batch\n",
        "# acestea sunt etichetele asociate fiecarui feedback si sunt utilizate in timpul antrenarii modelului\n",
        "print(data['targets'].shape)"
      ],
      "metadata": {
        "colab": {
          "base_uri": "https://localhost:8080/"
        },
        "id": "0LcMCkULZeGn",
        "outputId": "3084902f-315f-4e3a-f093-59fe671cb9ac"
      },
      "execution_count": null,
      "outputs": [
        {
          "output_type": "stream",
          "name": "stdout",
          "text": [
            "torch.Size([32, 256])\n",
            "torch.Size([32, 256])\n",
            "torch.Size([32])\n"
          ]
        }
      ]
    },
    {
      "cell_type": "markdown",
      "source": [
        "# Sentiment analysis"
      ],
      "metadata": {
        "id": "VlDVMHxeZjx1"
      }
    },
    {
      "cell_type": "code",
      "source": [
        "# SentimentClassifier extinde clasa nn.Module din pytorch pentru a crea un model de clasificare\n",
        "class SentimentClassifier(nn.Module):\n",
        "  # constructor\n",
        "  def __init__(self, n_classes):\n",
        "    # apeleaza constructorul clasei parinte nn.Module.\n",
        "    super(SentimentClassifier, self).__init__()\n",
        "    # incarca un model BERT pre-antrenat\n",
        "    self.bert = BertModel.from_pretrained(PRE_TRAINED_MODEL_NAME, return_dict=False)\n",
        "    # adauga un strat de Dropout cu probabilitatea de 0.3 pentru regularizare\n",
        "    # prevenind astfel overfitting-ul\n",
        "    self.drop = nn.Dropout(p=0.3) # for regularization\n",
        "    # adauga un strat linear de output care mapeaza iesirile BERT de dimensiune\n",
        "    # hidden_size la numarul de clase (n_classes).\n",
        "    self.out = nn.Linear(self.bert.config.hidden_size, n_classes)\n",
        "    # adauga un strat Softmax pentru a normaliza iesirile la probabilitati\n",
        "    # pe dimensiunea claselor\n",
        "    self.softmax = nn.Softmax(dim=1)\n",
        "\n",
        "  # metoda forward care defineste fluxul datelor prin retea\n",
        "  def forward(self, input_ids, attention_mask):\n",
        "    # trecerea tensorilor input_ids si attention_mask prin modelul BERT pentru a\n",
        "    # obtine pooled_output\n",
        "    _, pooled_output = self.bert(\n",
        "      input_ids=input_ids,\n",
        "      attention_mask=attention_mask\n",
        "    )\n",
        "    # aplicarea Dropout pe pooled_output\n",
        "    output = self.drop(pooled_output)\n",
        "    # aplicarea stratului linear pe output dupa Dropout pentru a obtine\n",
        "    # logit-urile pentru fiecare clasa\n",
        "    output = self.out(output)\n",
        "\n",
        "    # aplicarea functiei Softmax pe logit-uri pentru a obtine probabilitatile\n",
        "    # pentru fiecare clasa\n",
        "    return self.softmax(output)"
      ],
      "metadata": {
        "id": "9ls0IO5lbZu-"
      },
      "execution_count": null,
      "outputs": []
    },
    {
      "cell_type": "code",
      "source": [
        "class_names = ['1','2','3','4','5']\n",
        "\n",
        "# initializam un obiect SentimentClassifier cu numarul de clase egal cu 5\n",
        "model = SentimentClassifier(len(class_names))\n",
        "# mutam modelul pe dispozitivul specificat (GPU sau CPU)\n",
        "model = model.to(device)"
      ],
      "metadata": {
        "id": "IfmiYwuFbtqu"
      },
      "execution_count": null,
      "outputs": []
    },
    {
      "cell_type": "code",
      "source": [
        "# mutam tensorul input_ids pe dispozitivul specificat\n",
        "input_ids = data['input_ids'].to(device)\n",
        "# mutam tensorul attention_mask pe dispozitivul specificat\n",
        "attention_mask = data['attention_mask'].to(device)\n",
        "\n",
        "# afiseaza dimensiunile tensorilor input_ids si attention_mask, care ar trebui\n",
        "# sa fie de forma (batch_size, seq_length).\n",
        "print(input_ids.shape)\n",
        "print(attention_mask.shape)"
      ],
      "metadata": {
        "colab": {
          "base_uri": "https://localhost:8080/"
        },
        "id": "SkK_bT5ecRaC",
        "outputId": "63570a35-2321-4a91-c3d8-dbc9cca7352b"
      },
      "execution_count": null,
      "outputs": [
        {
          "output_type": "stream",
          "name": "stdout",
          "text": [
            "torch.Size([32, 256])\n",
            "torch.Size([32, 256])\n"
          ]
        }
      ]
    },
    {
      "cell_type": "code",
      "source": [
        "# executarea modelului\n",
        "model(input_ids, attention_mask)"
      ],
      "metadata": {
        "colab": {
          "base_uri": "https://localhost:8080/"
        },
        "id": "37NeEnPYzRgI",
        "outputId": "57684e34-f819-4724-d516-752b16531598"
      },
      "execution_count": null,
      "outputs": [
        {
          "output_type": "execute_result",
          "data": {
            "text/plain": [
              "tensor([[0.1396, 0.4168, 0.1347, 0.1920, 0.1170],\n",
              "        [0.2525, 0.1907, 0.2279, 0.1872, 0.1417],\n",
              "        [0.2525, 0.3296, 0.0714, 0.2188, 0.1277],\n",
              "        [0.2085, 0.1854, 0.2724, 0.1474, 0.1864],\n",
              "        [0.1353, 0.2176, 0.3352, 0.1816, 0.1303],\n",
              "        [0.3544, 0.1815, 0.1756, 0.1656, 0.1230],\n",
              "        [0.1256, 0.1855, 0.2257, 0.2281, 0.2352],\n",
              "        [0.2794, 0.1073, 0.1933, 0.1505, 0.2696],\n",
              "        [0.2329, 0.1386, 0.2915, 0.2103, 0.1268],\n",
              "        [0.2442, 0.1262, 0.1925, 0.1540, 0.2832],\n",
              "        [0.2768, 0.2131, 0.1519, 0.2281, 0.1301],\n",
              "        [0.2209, 0.2034, 0.1680, 0.1982, 0.2095],\n",
              "        [0.2477, 0.2771, 0.2620, 0.1076, 0.1056],\n",
              "        [0.1261, 0.2984, 0.2661, 0.1241, 0.1854],\n",
              "        [0.2319, 0.2044, 0.1709, 0.2033, 0.1895],\n",
              "        [0.1591, 0.2282, 0.3150, 0.1447, 0.1531],\n",
              "        [0.2171, 0.1733, 0.3237, 0.1647, 0.1213],\n",
              "        [0.1617, 0.1981, 0.3106, 0.2104, 0.1192],\n",
              "        [0.1853, 0.2313, 0.2041, 0.2199, 0.1594],\n",
              "        [0.2125, 0.3072, 0.0954, 0.2527, 0.1322],\n",
              "        [0.1786, 0.3084, 0.0584, 0.2763, 0.1782],\n",
              "        [0.2768, 0.1630, 0.2774, 0.1239, 0.1589],\n",
              "        [0.2769, 0.1641, 0.1109, 0.3317, 0.1164],\n",
              "        [0.1397, 0.2034, 0.2133, 0.2394, 0.2043],\n",
              "        [0.2105, 0.1551, 0.2453, 0.1619, 0.2271],\n",
              "        [0.2077, 0.1593, 0.2387, 0.2303, 0.1640],\n",
              "        [0.2786, 0.2982, 0.0906, 0.1789, 0.1538],\n",
              "        [0.3027, 0.1714, 0.1096, 0.2592, 0.1571],\n",
              "        [0.1816, 0.2443, 0.2872, 0.1643, 0.1225],\n",
              "        [0.1320, 0.2579, 0.3114, 0.1654, 0.1334],\n",
              "        [0.2679, 0.2239, 0.1438, 0.1540, 0.2104],\n",
              "        [0.1387, 0.2828, 0.2634, 0.2018, 0.1133]], device='cuda:0',\n",
              "       grad_fn=<SoftmaxBackward0>)"
            ]
          },
          "metadata": {},
          "execution_count": 90
        }
      ]
    },
    {
      "cell_type": "markdown",
      "source": [
        "# Training"
      ],
      "metadata": {
        "id": "GS7zuWNYd9fK"
      }
    },
    {
      "cell_type": "code",
      "source": [
        "# nr de epoci pentru antrenarea modelului\n",
        "EPOCHS = 4\n",
        "# numarul total de pasi de antrenament, calculat ca nr de batch-uri per epoca\n",
        "# inmulțit cu numarul de epoci\n",
        "total_steps = len(train_data_loader) * EPOCHS\n",
        "\n",
        "# Adam optimizer cu weight decay correction\n",
        "optimizer = AdamW(model.parameters(), lr=2e-5, correct_bias=False)\n",
        "\n",
        "# scheduler care ajusteaza rata de invatare intr-un mod liniar\n",
        "scheduler = get_linear_schedule_with_warmup(\n",
        "  optimizer,\n",
        "  num_warmup_steps=0, # nr de pasi de warmup\n",
        "  num_training_steps=total_steps # nr total de pasi de antrenament\n",
        ")\n",
        "\n",
        "# functia de pierdere (loss) pentru clasificare multi-clasa\n",
        "# o mutam pe device\n",
        "loss_fn = nn.CrossEntropyLoss().to(device)"
      ],
      "metadata": {
        "id": "DLc8fyG2d4TN",
        "colab": {
          "base_uri": "https://localhost:8080/"
        },
        "outputId": "c62fb9ec-025e-4f42-efa3-462a880d6258"
      },
      "execution_count": null,
      "outputs": [
        {
          "output_type": "stream",
          "name": "stderr",
          "text": [
            "/usr/local/lib/python3.10/dist-packages/transformers/optimization.py:521: FutureWarning: This implementation of AdamW is deprecated and will be removed in a future version. Use the PyTorch implementation torch.optim.AdamW instead, or set `no_deprecation_warning=True` to disable this warning\n",
            "  warnings.warn(\n"
          ]
        }
      ]
    },
    {
      "cell_type": "code",
      "source": [
        "# functia de antrenament\n",
        "def train_epoch(\n",
        "  model,\n",
        "  data_loader,\n",
        "  loss_fn,\n",
        "  optimizer,\n",
        "  device,\n",
        "  scheduler,\n",
        "  n_examples\n",
        "):\n",
        "  # setam modelul in modul de antrenament\n",
        "  model = model.train()\n",
        "\n",
        "  losses = []\n",
        "  correct_predictions = 0\n",
        "\n",
        "  for d in data_loader:\n",
        "    input_ids = d[\"input_ids\"].to(device)\n",
        "    attention_mask = d[\"attention_mask\"].to(device)\n",
        "    targets = d[\"targets\"].to(device)\n",
        "\n",
        "    # rulam modelul pe datele de intrare si obtinem outputurile\n",
        "    outputs = model(\n",
        "      input_ids=input_ids,\n",
        "      attention_mask=attention_mask\n",
        "    )\n",
        "\n",
        "    # calculam predictiile\n",
        "    _, preds = torch.max(outputs, dim=1)\n",
        "    # calculam pierderea\n",
        "    loss = loss_fn(outputs, targets)\n",
        "\n",
        "    # actualizam nr de predictii corecte\n",
        "    correct_predictions += torch.sum(preds == targets).detach().cpu().numpy()\n",
        "    # adaugam pierderea la lista losses\n",
        "    losses.append(loss.item())\n",
        "\n",
        "    # facem backward propagation\n",
        "    loss.backward()\n",
        "    nn.utils.clip_grad_norm_(model.parameters(), max_norm=1.0)\n",
        "    # actualizam parametrii modelului folosind optimizatorul si scheduler-ul\n",
        "    optimizer.step()\n",
        "    scheduler.step()\n",
        "    # resetam gradientele.\n",
        "    optimizer.zero_grad()\n",
        "\n",
        "  # returneaza acuratetea si pierderea medie pentru epoca\n",
        "  return correct_predictions / n_examples, np.mean(losses)"
      ],
      "metadata": {
        "id": "Q-hHYiZjeB5C"
      },
      "execution_count": null,
      "outputs": []
    },
    {
      "cell_type": "code",
      "source": [
        "def eval_model(model, data_loader, loss_fn, device, n_examples):\n",
        "  # seteaza modelul in modul de evaluare\n",
        "  model = model.eval()\n",
        "\n",
        "  losses = []\n",
        "  correct_predictions = 0\n",
        "\n",
        "  with torch.no_grad():\n",
        "    for d in data_loader:\n",
        "      input_ids = d[\"input_ids\"].to(device)\n",
        "      attention_mask = d[\"attention_mask\"].to(device)\n",
        "      targets = d[\"targets\"].to(device)\n",
        "\n",
        "      # rulam modelul pe datele de intrare si obtinem outputurile\n",
        "      outputs = model(\n",
        "        input_ids=input_ids,\n",
        "        attention_mask=attention_mask\n",
        "      )\n",
        "      # calculam predictiile si pierderea.\n",
        "      _, preds = torch.max(outputs, dim=1)\n",
        "      loss = loss_fn(outputs, targets)\n",
        "\n",
        "      # actualizam nr de predictii corecte si adaugam pierderea la lista losses.\n",
        "      correct_predictions += torch.sum(preds == targets).detach().cpu().numpy()\n",
        "      losses.append(loss.item())\n",
        "\n",
        "  # returneaza acuratetea si pierderea medie pentru epoca\n",
        "  return correct_predictions / n_examples, np.mean(losses)"
      ],
      "metadata": {
        "id": "YaaXiPo5eVC_"
      },
      "execution_count": null,
      "outputs": []
    },
    {
      "cell_type": "code",
      "source": [
        "# antrenarea si evaluarea modelului\n",
        "%%time\n",
        "\n",
        "# initializam un dictionar pentru stocarea istoricului antrenamentului si evaluarii\n",
        "history = defaultdict(list)\n",
        "# cea mai buna acuratete, 0 initial\n",
        "best_accuracy = 0\n",
        "\n",
        "for epoch in range(EPOCHS):\n",
        "\n",
        "  # afisam nr epocii din total\n",
        "  print(f'Epoch {epoch + 1}/{EPOCHS}')\n",
        "  print('-' * 10)\n",
        "\n",
        "  # apelam train_epoch pentru a antrena modelul pe setul de date de antrenament\n",
        "  # se returneaza acuratetea si pierderea medie\n",
        "  train_acc, train_loss = train_epoch(\n",
        "    model,\n",
        "    train_data_loader,\n",
        "    loss_fn,\n",
        "    optimizer,\n",
        "    device,\n",
        "    scheduler,\n",
        "    len(df_train)\n",
        "  )\n",
        "\n",
        "  # le afisam\n",
        "  print(f'Train loss {train_loss} accuracy {train_acc}')\n",
        "\n",
        "  # apelam eval_model pentru a evalua modelul pe setul de date de validare si\n",
        "  # se returneaza acuratetea si pierderea medie.\n",
        "  val_acc, val_loss = eval_model(\n",
        "    model,\n",
        "    val_data_loader,\n",
        "    loss_fn,\n",
        "    device,\n",
        "    len(df_val)\n",
        "  )\n",
        "\n",
        "  # le afisam\n",
        "  print(f'Val   loss {val_loss} accuracy {val_acc}')\n",
        "  print()\n",
        "\n",
        "  # stocam acuratetea si pierderea pentru antrenament si validare in dict history\n",
        "  history['train_acc'].append(train_acc)\n",
        "  history['train_loss'].append(train_loss)\n",
        "  history['val_acc'].append(val_acc)\n",
        "  history['val_loss'].append(val_loss)\n",
        "\n",
        "  # salvează starea modelului daca acuratețea pe setul de validare este cea mai\n",
        "  # buna de pana acum\n",
        "  if val_acc > best_accuracy:\n",
        "    torch.save(model.state_dict(), 'best_model_state.bin')\n",
        "    best_accuracy = val_acc"
      ],
      "metadata": {
        "colab": {
          "base_uri": "https://localhost:8080/"
        },
        "id": "Mk4K-IfneZEG",
        "outputId": "00968ba1-4025-4e9f-eae6-3683979ee31a"
      },
      "execution_count": null,
      "outputs": [
        {
          "output_type": "stream",
          "name": "stdout",
          "text": [
            "Epoch 1/4\n",
            "----------\n",
            "Train loss 1.1788966437242732 accuracy 0.7227491230349486\n",
            "Val   loss 1.0642976893866358 accuracy 0.8404365904365905\n",
            "\n",
            "Epoch 2/4\n",
            "----------\n",
            "Train loss 1.0357998370010162 accuracy 0.8689749252955697\n",
            "Val   loss 1.0100627093275716 accuracy 0.8955301455301455\n",
            "\n",
            "Epoch 3/4\n",
            "----------\n",
            "Train loss 1.0062931031452904 accuracy 0.898629336104976\n",
            "Val   loss 0.9958563102178337 accuracy 0.9095634095634095\n",
            "\n",
            "Epoch 4/4\n",
            "----------\n",
            "Train loss 0.9947939432174865 accuracy 0.9102572430817202\n",
            "Val   loss 0.9952239719304171 accuracy 0.9106029106029107\n",
            "\n",
            "CPU times: user 14min 27s, sys: 6min 36s, total: 21min 4s\n",
            "Wall time: 21min 3s\n"
          ]
        }
      ]
    },
    {
      "cell_type": "code",
      "source": [
        "plt.plot(history['train_loss'], label='loss pe date de training')\n",
        "plt.plot(history['val_loss'], label='loss pe date de validare')\n",
        "\n",
        "plt.title('Istoric de training')\n",
        "plt.ylabel('Loss')\n",
        "plt.xlabel('Epoch')\n",
        "plt.legend()\n",
        "plt.ylim([0, 2]);"
      ],
      "metadata": {
        "id": "Lf7Q034hiMpp",
        "colab": {
          "base_uri": "https://localhost:8080/",
          "height": 472
        },
        "outputId": "35fc0870-cc6f-4aac-a351-50e5f74bae88"
      },
      "execution_count": null,
      "outputs": [
        {
          "output_type": "display_data",
          "data": {
            "text/plain": [
              "<Figure size 640x480 with 1 Axes>"
            ],
            "image/png": "[encoded data removed]"
          },
          "metadata": {}
        }
      ]
    },
    {
      "cell_type": "code",
      "source": [
        "plt.plot(history['train_acc'], label='acuratete pe date de training')\n",
        "plt.plot(history['val_acc'], label='acuratete pe date de validare')\n",
        "\n",
        "plt.title('Istoric de training')\n",
        "plt.ylabel('Acuratete')\n",
        "plt.xlabel('Epoch')\n",
        "plt.legend()\n",
        "plt.ylim([0, 1]);"
      ],
      "metadata": {
        "id": "jRRBUeMUrFgg",
        "colab": {
          "base_uri": "https://localhost:8080/",
          "height": 472
        },
        "outputId": "bb1df1e4-ae3a-487b-c959-56b186700139"
      },
      "execution_count": null,
      "outputs": [
        {
          "output_type": "display_data",
          "data": {
            "text/plain": [
              "<Figure size 640x480 with 1 Axes>"
            ],
            "image/png": "[encoded data removed]"
          },
          "metadata": {}
        }
      ]
    },
    {
      "cell_type": "markdown",
      "source": [
        "# Evaluation"
      ],
      "metadata": {
        "id": "1_Q5hOfDs-7g"
      }
    },
    {
      "cell_type": "code",
      "source": [
        "# evaluam performanta modelului pe setul de test\n",
        "test_acc, test_loss = eval_model(\n",
        "  model,\n",
        "  test_data_loader,\n",
        "  loss_fn,\n",
        "  device,\n",
        "  len(df_test)\n",
        ")\n",
        "\n",
        "# afiseaza valoarea scalară a tensorului test_acc, care reprezintă acuratețea pe setul de test.\n",
        "test_acc.item()"
      ],
      "metadata": {
        "id": "VUhLidE5s-Y6",
        "colab": {
          "base_uri": "https://localhost:8080/"
        },
        "outputId": "489efe37-459a-4b7d-921e-7ea0e4cb5f86"
      },
      "execution_count": null,
      "outputs": [
        {
          "output_type": "execute_result",
          "data": {
            "text/plain": [
              "0.9004936347103144"
            ]
          },
          "metadata": {},
          "execution_count": 97
        }
      ]
    },
    {
      "cell_type": "code",
      "source": [
        "# functia pentru obtinerea predictiilor\n",
        "def get_predictions(model, data_loader):\n",
        "  # seteaza modelul in modul de evaluare, dezactivand dropout-ul si alte mecanisme de antrenament.\n",
        "  model = model.eval()\n",
        "\n",
        "  # initializarea listelor pentru stocarea rezultatelor\n",
        "  review_texts = []\n",
        "  predictions = []\n",
        "  prediction_probs = []\n",
        "  real_values = []\n",
        "\n",
        "  # context manager pentru a dezactiva calculul gradientului\n",
        "  # economisim astfel memorie si acceleram procesarea\n",
        "  with torch.no_grad():\n",
        "    # trecem prin DataLoader pentru a obtine predictiile\n",
        "    for d in data_loader:\n",
        "\n",
        "      texts = d[\"review_text\"]\n",
        "      input_ids = d[\"input_ids\"].to(device)\n",
        "      attention_mask = d[\"attention_mask\"].to(device)\n",
        "      targets = d[\"targets\"].to(device)\n",
        "\n",
        "      # rulam modelul pe datele de input\n",
        "      outputs = model(\n",
        "        input_ids=input_ids,\n",
        "        attention_mask=attention_mask\n",
        "      )\n",
        "      # obtinem predictiile prin aplicarea functiei torch.max pe outputuri\n",
        "      _, preds = torch.max(outputs, dim=1)\n",
        "\n",
        "      # extindem listele cu valorile din batchul curent\n",
        "      review_texts.extend(texts)\n",
        "      predictions.extend(preds)\n",
        "      prediction_probs.extend(outputs)\n",
        "      real_values.extend(targets)\n",
        "\n",
        "  predictions = torch.stack(predictions).cpu()\n",
        "  prediction_probs = torch.stack(prediction_probs).cpu()\n",
        "  real_values = torch.stack(real_values).cpu()\n",
        "\n",
        "  return review_texts, predictions, prediction_probs, real_values"
      ],
      "metadata": {
        "id": "8dV7bjk9tGcW"
      },
      "execution_count": null,
      "outputs": []
    },
    {
      "cell_type": "code",
      "source": [
        "# evaluarea modelului pe setul de test:\n",
        "test_acc, test_loss = eval_model(model, test_data_loader, loss_fn, device, len(df_test))"
      ],
      "metadata": {
        "id": "I0mKFeF700bA"
      },
      "execution_count": null,
      "outputs": []
    },
    {
      "cell_type": "code",
      "source": [
        "test_acc"
      ],
      "metadata": {
        "id": "63hnqst_06bH",
        "colab": {
          "base_uri": "https://localhost:8080/"
        },
        "outputId": "22fa72a9-ee70-45b0-f3e3-0851f5789461"
      },
      "execution_count": null,
      "outputs": [
        {
          "output_type": "execute_result",
          "data": {
            "text/plain": [
              "0.9004936347103144"
            ]
          },
          "metadata": {},
          "execution_count": 100
        }
      ]
    },
    {
      "cell_type": "code",
      "source": [
        "test_loss"
      ],
      "metadata": {
        "id": "cuwaHi1p07k8",
        "colab": {
          "base_uri": "https://localhost:8080/"
        },
        "outputId": "effae151-eb35-4f91-d497-c92cdc322010"
      },
      "execution_count": null,
      "outputs": [
        {
          "output_type": "execute_result",
          "data": {
            "text/plain": [
              "1.0039750411490764"
            ]
          },
          "metadata": {},
          "execution_count": 101
        }
      ]
    },
    {
      "cell_type": "code",
      "source": [
        "# obtinem predictiile\n",
        "y_review_texts, y_pred, y_pred_probs, y_test = get_predictions(\n",
        "  model,\n",
        "  test_data_loader\n",
        ")"
      ],
      "metadata": {
        "id": "hGih9qc_tJiZ"
      },
      "execution_count": null,
      "outputs": []
    },
    {
      "cell_type": "code",
      "source": [
        "# afisam raportului de clasificare\n",
        "print(classification_report(y_test, y_pred, target_names=class_names))"
      ],
      "metadata": {
        "id": "0aSiVQ6P1AsT",
        "colab": {
          "base_uri": "https://localhost:8080/"
        },
        "outputId": "4c9c9010-0df7-4115-e399-6750fda41f69"
      },
      "execution_count": null,
      "outputs": [
        {
          "output_type": "stream",
          "name": "stdout",
          "text": [
            "              precision    recall  f1-score   support\n",
            "\n",
            "           1       0.92      0.96      0.94       746\n",
            "           2       0.96      0.90      0.93       775\n",
            "           3       0.91      0.90      0.90       771\n",
            "           4       0.87      0.85      0.86       789\n",
            "           5       0.86      0.90      0.88       768\n",
            "\n",
            "    accuracy                           0.90      3849\n",
            "   macro avg       0.90      0.90      0.90      3849\n",
            "weighted avg       0.90      0.90      0.90      3849\n",
            "\n"
          ]
        }
      ]
    },
    {
      "cell_type": "code",
      "source": [
        "# functie pentru afisarea matricei de confuzie\n",
        "def show_confusion_matrix(confusion_matrix):\n",
        "  hmap = sns.heatmap(confusion_matrix, annot=True, fmt=\"d\", cmap=\"Blues\")\n",
        "  hmap.yaxis.set_ticklabels(hmap.yaxis.get_ticklabels(), rotation=0, ha='right')\n",
        "  hmap.xaxis.set_ticklabels(hmap.xaxis.get_ticklabels(), rotation=30, ha='right')\n",
        "  plt.ylabel('Sentiment original')\n",
        "  plt.xlabel('Sentiment calculat');\n",
        "\n",
        "cm = confusion_matrix(y_test, y_pred)\n",
        "df_cm = pd.DataFrame(cm, index=class_names, columns=class_names)\n",
        "show_confusion_matrix(df_cm)"
      ],
      "metadata": {
        "id": "H0Wm-l_8tNrH",
        "colab": {
          "base_uri": "https://localhost:8080/",
          "height": 452
        },
        "outputId": "f378cedb-a82b-406d-ef91-3b2fa4946ae8"
      },
      "execution_count": null,
      "outputs": [
        {
          "output_type": "display_data",
          "data": {
            "text/plain": [
              "<Figure size 640x480 with 2 Axes>"
            ],
            "image/png": "[encoded data removed]"
          },
          "metadata": {}
        }
      ]
    },
    {
      "cell_type": "code",
      "source": [
        "idx = 10\n",
        "\n",
        "review_text = y_review_texts[idx]\n",
        "true_sentiment = y_test[idx]\n",
        "pred_df = pd.DataFrame({\n",
        "  'class_names': class_names,\n",
        "  'values': y_pred_probs[idx]\n",
        "})"
      ],
      "metadata": {
        "id": "NAg_DecIwGGE"
      },
      "execution_count": null,
      "outputs": []
    },
    {
      "cell_type": "code",
      "source": [
        "print(\"\\n\".join(wrap(review_text)))\n",
        "print()\n",
        "print(f'True sentiment: {class_names[true_sentiment]}')"
      ],
      "metadata": {
        "id": "t-nEob4HwK71",
        "colab": {
          "base_uri": "https://localhost:8080/"
        },
        "outputId": "5d7b63c0-e300-4800-c610-67c2a6dda433"
      },
      "execution_count": null,
      "outputs": [
        {
          "output_type": "stream",
          "name": "stdout",
          "text": [
            "Sunt foarte mulțumit de acest șampon. Am încercat multe șampoane, dar\n",
            "acesta este cel mai bun până acum.Îmi face părul să strălucească,\n",
            "neted și mătăsos. Parul meu este vizibil mai sănătos cand folosesc\n",
            "samponul asta. Nu pot decat sa il recomand. Nu este un sampon ieftin,\n",
            "dar isi merita banii!️️️️\n",
            "\n",
            "True sentiment: 4\n"
          ]
        }
      ]
    },
    {
      "cell_type": "code",
      "source": [
        "sns.barplot(x='values', y='class_names', data=pred_df, orient='h')\n",
        "plt.ylabel('sentiment')\n",
        "plt.xlabel('probabilitate')\n",
        "plt.xlim([0, 1]);"
      ],
      "metadata": {
        "id": "skW8O2KVkjLY",
        "colab": {
          "base_uri": "https://localhost:8080/",
          "height": 449
        },
        "outputId": "534e7b72-72da-4bd1-d1b8-365bf9364587"
      },
      "execution_count": null,
      "outputs": [
        {
          "output_type": "display_data",
          "data": {
            "text/plain": [
              "<Figure size 640x480 with 1 Axes>"
            ],
            "image/png": "[encoded data removed]"
          },
          "metadata": {}
        }
      ]
    },
    {
      "cell_type": "markdown",
      "source": [
        "# TEST"
      ],
      "metadata": {
        "id": "rUREMCrwwc8W"
      }
    },
    {
      "cell_type": "code",
      "source": [
        "review_text = \"Am dat șamponul direct la gunoi, a fost super\"\n",
        "# tokenizam feedback-ul\n",
        "encoded_review = tokenizer.encode_plus(\n",
        "  review_text,\n",
        "  max_length=MAX_LEN,\n",
        "  add_special_tokens=True,\n",
        "  return_token_type_ids=False,\n",
        "  padding='max_length',\n",
        "  return_attention_mask=True,\n",
        "  return_tensors='pt',\n",
        ")\n",
        "\n",
        "input_ids = encoded_review['input_ids'].to(device)\n",
        "attention_mask = encoded_review['attention_mask'].to(device)\n",
        "\n",
        "# trecem inputul si attention mask prin model\n",
        "output = model(input_ids, attention_mask)\n",
        "\n",
        "# obtinem probabilitatile cu ajutorul functiei softmax\n",
        "with torch.no_grad():\n",
        "  probabilities = F.softmax(output, dim=1)\n",
        "\n",
        "confidence, predicted_class = torch.max(probabilities, dim=1)\n",
        "probabilities = probabilities.flatten().cpu().numpy().tolist()\n",
        "predicted_class = predicted_class.cpu().item()\n",
        "class_names_int = [eval(i) for i in class_names]\n",
        "probabilities_plot = dict(zip(class_names_int, probabilities));\n",
        "\n",
        "print(f'Feedback      : {review_text}')\n",
        "print(f'Scor          : {class_names[predicted_class]}')\n",
        "print(f'Probabilitati : {probabilities_plot}')\n",
        "\n",
        "sns.barplot(x=list(probabilities_plot.keys()), y=list(probabilities_plot.values()), palette='bright', legend=False)\n",
        "plt.ylabel('Probabilitate')\n",
        "plt.xlabel(f'Scor feedback')"
      ],
      "metadata": {
        "id": "mqFJQ733wlWW",
        "colab": {
          "base_uri": "https://localhost:8080/",
          "height": 211
        },
        "outputId": "06f8f4f9-2f3f-4006-e53c-76882702ef78"
      },
      "execution_count": 1,
      "outputs": [
        {
          "output_type": "error",
          "ename": "NameError",
          "evalue": "name 'tokenizer' is not defined",
          "traceback": [
            "\u001b[0;31m---------------------------------------------------------------------------\u001b[0m",
            "\u001b[0;31mNameError\u001b[0m                                 Traceback (most recent call last)",
            "\u001b[0;32m<ipython-input-1-23c06c83698f>\u001b[0m in \u001b[0;36m<cell line: 3>\u001b[0;34m()\u001b[0m\n\u001b[1;32m      1\u001b[0m \u001b[0mreview_text\u001b[0m \u001b[0;34m=\u001b[0m \u001b[0;34m\"Am dat șamponul direct la gunoi, a fost super\"\u001b[0m\u001b[0;34m\u001b[0m\u001b[0;34m\u001b[0m\u001b[0m\n\u001b[1;32m      2\u001b[0m \u001b[0;31m# tokenizam feedback-ul\u001b[0m\u001b[0;34m\u001b[0m\u001b[0;34m\u001b[0m\u001b[0m\n\u001b[0;32m----> 3\u001b[0;31m encoded_review = tokenizer.encode_plus(\n\u001b[0m\u001b[1;32m      4\u001b[0m   \u001b[0mreview_text\u001b[0m\u001b[0;34m,\u001b[0m\u001b[0;34m\u001b[0m\u001b[0;34m\u001b[0m\u001b[0m\n\u001b[1;32m      5\u001b[0m   \u001b[0mmax_length\u001b[0m\u001b[0;34m=\u001b[0m\u001b[0mMAX_LEN\u001b[0m\u001b[0;34m,\u001b[0m\u001b[0;34m\u001b[0m\u001b[0;34m\u001b[0m\u001b[0m\n",
            "\u001b[0;31mNameError\u001b[0m: name 'tokenizer' is not defined"
          ]
        }
      ]
    },
    {
      "cell_type": "code",
      "source": [
        "y_review_texts, y_pred, y_pred_probs, y_test = get_predictions(\n",
        "  model,\n",
        "  test_data_loader\n",
        ")\n",
        "\n",
        "pred_df = pd.DataFrame({\n",
        "  'class_names': class_names,\n",
        "  'values': y_pred_probs[idx]\n",
        "})\n",
        "\n",
        "sns.barplot(x='values', y='class_names', data=pred_df, orient='h')\n",
        "plt.ylabel('sentiment')\n",
        "plt.xlabel('probability')\n",
        "plt.xlim([0, 1]);"
      ],
      "metadata": {
        "id": "lsIcis7mebZK",
        "colab": {
          "base_uri": "https://localhost:8080/",
          "height": 504
        },
        "outputId": "585683a2-f502-4fd5-af25-73cf4194fb49"
      },
      "execution_count": null,
      "outputs": [
        {
          "output_type": "stream",
          "name": "stderr",
          "text": [
            "/usr/lib/python3.10/multiprocessing/popen_fork.py:66: RuntimeWarning: os.fork() was called. os.fork() is incompatible with multithreaded code, and JAX is multithreaded, so this will likely lead to a deadlock.\n",
            "  self.pid = os.fork()\n"
          ]
        },
        {
          "output_type": "display_data",
          "data": {
            "text/plain": [
              "<Figure size 640x480 with 1 Axes>"
            ],
            "image/png": "[encoded data removed]"
          },
          "metadata": {}
        }
      ]
    },
    {
      "cell_type": "markdown",
      "source": [],
      "metadata": {
        "id": "-HoP4djf9P_5"
      }
    }
  ]
}